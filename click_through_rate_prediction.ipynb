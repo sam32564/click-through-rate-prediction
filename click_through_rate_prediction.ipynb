{
 "cells": [
  {
   "cell_type": "markdown",
   "metadata": {},
   "source": [
    "## click-throught rate 分析報告"
   ]
  },
  {
   "cell_type": "code",
   "execution_count": 1,
   "metadata": {},
   "outputs": [],
   "source": [
    "import pandas as pd\n",
    "import numpy as  np\n",
    "import matplotlib.pyplot as plt\n",
    "import seaborn as sns\n",
    "import json\n",
    "import time\n",
    "import datetime\n",
    "from sklearn import preprocessing\n",
    "from sklearn.preprocessing import LabelEncoder\n",
    "import os\n",
    "sns.set()\n",
    "path_raw_data = '../raw_data'"
   ]
  },
  {
   "cell_type": "markdown",
   "metadata": {},
   "source": [
    "## ０. 讀取資料：查看資料樣本大小，變數型態、意義"
   ]
  },
  {
   "cell_type": "code",
   "execution_count": 2,
   "metadata": {},
   "outputs": [
    {
     "data": {
      "text/html": [
       "<div>\n",
       "<style scoped>\n",
       "    .dataframe tbody tr th:only-of-type {\n",
       "        vertical-align: middle;\n",
       "    }\n",
       "\n",
       "    .dataframe tbody tr th {\n",
       "        vertical-align: top;\n",
       "    }\n",
       "\n",
       "    .dataframe thead th {\n",
       "        text-align: right;\n",
       "    }\n",
       "</style>\n",
       "<table border=\"1\" class=\"dataframe\">\n",
       "  <thead>\n",
       "    <tr style=\"text-align: right;\">\n",
       "      <th></th>\n",
       "      <th>id</th>\n",
       "      <th>click</th>\n",
       "      <th>hour</th>\n",
       "      <th>C1</th>\n",
       "      <th>banner_pos</th>\n",
       "      <th>site_id</th>\n",
       "      <th>site_domain</th>\n",
       "      <th>site_category</th>\n",
       "      <th>app_id</th>\n",
       "      <th>app_domain</th>\n",
       "      <th>...</th>\n",
       "      <th>device_type</th>\n",
       "      <th>device_conn_type</th>\n",
       "      <th>C14</th>\n",
       "      <th>C15</th>\n",
       "      <th>C16</th>\n",
       "      <th>C17</th>\n",
       "      <th>C18</th>\n",
       "      <th>C19</th>\n",
       "      <th>C20</th>\n",
       "      <th>C21</th>\n",
       "    </tr>\n",
       "  </thead>\n",
       "  <tbody>\n",
       "    <tr>\n",
       "      <th>0</th>\n",
       "      <td>1.000009e+18</td>\n",
       "      <td>0</td>\n",
       "      <td>14102100</td>\n",
       "      <td>1005</td>\n",
       "      <td>0</td>\n",
       "      <td>1fbe01fe</td>\n",
       "      <td>f3845767</td>\n",
       "      <td>28905ebd</td>\n",
       "      <td>ecad2386</td>\n",
       "      <td>7801e8d9</td>\n",
       "      <td>...</td>\n",
       "      <td>1</td>\n",
       "      <td>2</td>\n",
       "      <td>15706</td>\n",
       "      <td>320</td>\n",
       "      <td>50</td>\n",
       "      <td>1722</td>\n",
       "      <td>0</td>\n",
       "      <td>35</td>\n",
       "      <td>-1</td>\n",
       "      <td>79</td>\n",
       "    </tr>\n",
       "    <tr>\n",
       "      <th>1</th>\n",
       "      <td>1.000017e+19</td>\n",
       "      <td>0</td>\n",
       "      <td>14102100</td>\n",
       "      <td>1005</td>\n",
       "      <td>0</td>\n",
       "      <td>1fbe01fe</td>\n",
       "      <td>f3845767</td>\n",
       "      <td>28905ebd</td>\n",
       "      <td>ecad2386</td>\n",
       "      <td>7801e8d9</td>\n",
       "      <td>...</td>\n",
       "      <td>1</td>\n",
       "      <td>0</td>\n",
       "      <td>15704</td>\n",
       "      <td>320</td>\n",
       "      <td>50</td>\n",
       "      <td>1722</td>\n",
       "      <td>0</td>\n",
       "      <td>35</td>\n",
       "      <td>100084</td>\n",
       "      <td>79</td>\n",
       "    </tr>\n",
       "    <tr>\n",
       "      <th>2</th>\n",
       "      <td>1.000037e+19</td>\n",
       "      <td>0</td>\n",
       "      <td>14102100</td>\n",
       "      <td>1005</td>\n",
       "      <td>0</td>\n",
       "      <td>1fbe01fe</td>\n",
       "      <td>f3845767</td>\n",
       "      <td>28905ebd</td>\n",
       "      <td>ecad2386</td>\n",
       "      <td>7801e8d9</td>\n",
       "      <td>...</td>\n",
       "      <td>1</td>\n",
       "      <td>0</td>\n",
       "      <td>15704</td>\n",
       "      <td>320</td>\n",
       "      <td>50</td>\n",
       "      <td>1722</td>\n",
       "      <td>0</td>\n",
       "      <td>35</td>\n",
       "      <td>100084</td>\n",
       "      <td>79</td>\n",
       "    </tr>\n",
       "    <tr>\n",
       "      <th>3</th>\n",
       "      <td>1.000064e+19</td>\n",
       "      <td>0</td>\n",
       "      <td>14102100</td>\n",
       "      <td>1005</td>\n",
       "      <td>0</td>\n",
       "      <td>1fbe01fe</td>\n",
       "      <td>f3845767</td>\n",
       "      <td>28905ebd</td>\n",
       "      <td>ecad2386</td>\n",
       "      <td>7801e8d9</td>\n",
       "      <td>...</td>\n",
       "      <td>1</td>\n",
       "      <td>0</td>\n",
       "      <td>15706</td>\n",
       "      <td>320</td>\n",
       "      <td>50</td>\n",
       "      <td>1722</td>\n",
       "      <td>0</td>\n",
       "      <td>35</td>\n",
       "      <td>100084</td>\n",
       "      <td>79</td>\n",
       "    </tr>\n",
       "    <tr>\n",
       "      <th>4</th>\n",
       "      <td>1.000068e+19</td>\n",
       "      <td>0</td>\n",
       "      <td>14102100</td>\n",
       "      <td>1005</td>\n",
       "      <td>1</td>\n",
       "      <td>fe8cc448</td>\n",
       "      <td>9166c161</td>\n",
       "      <td>0569f928</td>\n",
       "      <td>ecad2386</td>\n",
       "      <td>7801e8d9</td>\n",
       "      <td>...</td>\n",
       "      <td>1</td>\n",
       "      <td>0</td>\n",
       "      <td>18993</td>\n",
       "      <td>320</td>\n",
       "      <td>50</td>\n",
       "      <td>2161</td>\n",
       "      <td>0</td>\n",
       "      <td>35</td>\n",
       "      <td>-1</td>\n",
       "      <td>157</td>\n",
       "    </tr>\n",
       "  </tbody>\n",
       "</table>\n",
       "<p>5 rows × 24 columns</p>\n",
       "</div>"
      ],
      "text/plain": [
       "             id  click      hour    C1  banner_pos   site_id site_domain  \\\n",
       "0  1.000009e+18      0  14102100  1005           0  1fbe01fe    f3845767   \n",
       "1  1.000017e+19      0  14102100  1005           0  1fbe01fe    f3845767   \n",
       "2  1.000037e+19      0  14102100  1005           0  1fbe01fe    f3845767   \n",
       "3  1.000064e+19      0  14102100  1005           0  1fbe01fe    f3845767   \n",
       "4  1.000068e+19      0  14102100  1005           1  fe8cc448    9166c161   \n",
       "\n",
       "  site_category    app_id app_domain  ... device_type device_conn_type    C14  \\\n",
       "0      28905ebd  ecad2386   7801e8d9  ...           1                2  15706   \n",
       "1      28905ebd  ecad2386   7801e8d9  ...           1                0  15704   \n",
       "2      28905ebd  ecad2386   7801e8d9  ...           1                0  15704   \n",
       "3      28905ebd  ecad2386   7801e8d9  ...           1                0  15706   \n",
       "4      0569f928  ecad2386   7801e8d9  ...           1                0  18993   \n",
       "\n",
       "   C15  C16   C17  C18  C19     C20  C21  \n",
       "0  320   50  1722    0   35      -1   79  \n",
       "1  320   50  1722    0   35  100084   79  \n",
       "2  320   50  1722    0   35  100084   79  \n",
       "3  320   50  1722    0   35  100084   79  \n",
       "4  320   50  2161    0   35      -1  157  \n",
       "\n",
       "[5 rows x 24 columns]"
      ]
     },
     "execution_count": 2,
     "metadata": {},
     "output_type": "execute_result"
    }
   ],
   "source": [
    "#訓練集:按時間排序的十天廣告點擊資料，共40428967筆\n",
    "#測試集:按時間排序的一天廣告點擊資料，共4577464筆\n",
    "train = pd.read_csv(os.path.join(path_raw_data, 'train.csv'), nrows = 10000000)\n",
    "train.head(5)"
   ]
  },
  {
   "cell_type": "code",
   "execution_count": 3,
   "metadata": {
    "scrolled": true
   },
   "outputs": [
    {
     "name": "stdout",
     "output_type": "stream",
     "text": [
      "<class 'pandas.core.frame.DataFrame'>\n",
      "RangeIndex: 1000000 entries, 0 to 999999\n",
      "Data columns (total 24 columns):\n",
      " #   Column            Non-Null Count    Dtype  \n",
      "---  ------            --------------    -----  \n",
      " 0   id                1000000 non-null  float64\n",
      " 1   click             1000000 non-null  int64  \n",
      " 2   hour              1000000 non-null  int64  \n",
      " 3   C1                1000000 non-null  int64  \n",
      " 4   banner_pos        1000000 non-null  int64  \n",
      " 5   site_id           1000000 non-null  object \n",
      " 6   site_domain       1000000 non-null  object \n",
      " 7   site_category     1000000 non-null  object \n",
      " 8   app_id            1000000 non-null  object \n",
      " 9   app_domain        1000000 non-null  object \n",
      " 10  app_category      1000000 non-null  object \n",
      " 11  device_id         1000000 non-null  object \n",
      " 12  device_ip         1000000 non-null  object \n",
      " 13  device_model      1000000 non-null  object \n",
      " 14  device_type       1000000 non-null  int64  \n",
      " 15  device_conn_type  1000000 non-null  int64  \n",
      " 16  C14               1000000 non-null  int64  \n",
      " 17  C15               1000000 non-null  int64  \n",
      " 18  C16               1000000 non-null  int64  \n",
      " 19  C17               1000000 non-null  int64  \n",
      " 20  C18               1000000 non-null  int64  \n",
      " 21  C19               1000000 non-null  int64  \n",
      " 22  C20               1000000 non-null  int64  \n",
      " 23  C21               1000000 non-null  int64  \n",
      "dtypes: float64(1), int64(14), object(9)\n",
      "memory usage: 183.1+ MB\n"
     ]
    }
   ],
   "source": [
    "train.info()"
   ]
  },
  {
   "cell_type": "markdown",
   "metadata": {},
   "source": [
    "### 變量名稱:\n",
    "* id: 用戶ID號(float 20位數)\n",
    "* click: 0/1 表示未點擊/點擊(int)\n",
    "* hour: 格式YYMMDDHH，14102100為2014年10月21日時間00:00(int)\n",
    "* C1: 匿名分類變量(int 4位數)\n",
    "* banner_pos: 網頁上的廣告位置(0,1,2..)\n",
    "* site_id:網點ID\n",
    "* site_domain:網點領域\n",
    "* site_category: 網點類別\n",
    "* app_id:用戶APP的ID\n",
    "* app_domain:app區域\n",
    "* app_category:app類別\n",
    "* device_id: 設備編號\n",
    "* device_ip:設備ip位置\n",
    "* device_model:設備模型(int)\n",
    "* device_type: 設備類型(int)\n",
    "* device_conn_type:設備接入類型(int)\n",
    "* C14-C21 :匿名類別變量(int)"
   ]
  },
  {
   "cell_type": "code",
   "execution_count": 4,
   "metadata": {
    "scrolled": true
   },
   "outputs": [
    {
     "data": {
      "text/plain": [
       "Index(['id', 'click', 'hour', 'C1', 'banner_pos', 'site_id', 'site_domain',\n",
       "       'site_category', 'app_id', 'app_domain', 'app_category', 'device_id',\n",
       "       'device_ip', 'device_model', 'device_type', 'device_conn_type', 'C14',\n",
       "       'C15', 'C16', 'C17', 'C18', 'C19', 'C20', 'C21'],\n",
       "      dtype='object')"
      ]
     },
     "execution_count": 4,
     "metadata": {},
     "output_type": "execute_result"
    }
   ],
   "source": [
    "train.columns #變數名稱"
   ]
  },
  {
   "cell_type": "code",
   "execution_count": 5,
   "metadata": {},
   "outputs": [
    {
     "data": {
      "text/plain": [
       "(1000000, 24)"
      ]
     },
     "execution_count": 5,
     "metadata": {},
     "output_type": "execute_result"
    }
   ],
   "source": [
    "train.shape #資料筆數、變數個數"
   ]
  },
  {
   "cell_type": "code",
   "execution_count": 6,
   "metadata": {},
   "outputs": [
    {
     "data": {
      "text/html": [
       "<div>\n",
       "<style scoped>\n",
       "    .dataframe tbody tr th:only-of-type {\n",
       "        vertical-align: middle;\n",
       "    }\n",
       "\n",
       "    .dataframe tbody tr th {\n",
       "        vertical-align: top;\n",
       "    }\n",
       "\n",
       "    .dataframe thead th {\n",
       "        text-align: right;\n",
       "    }\n",
       "</style>\n",
       "<table border=\"1\" class=\"dataframe\">\n",
       "  <thead>\n",
       "    <tr style=\"text-align: right;\">\n",
       "      <th></th>\n",
       "      <th>id</th>\n",
       "      <th>click</th>\n",
       "      <th>hour</th>\n",
       "      <th>C1</th>\n",
       "      <th>banner_pos</th>\n",
       "      <th>site_id</th>\n",
       "      <th>site_domain</th>\n",
       "      <th>site_category</th>\n",
       "      <th>app_id</th>\n",
       "      <th>app_domain</th>\n",
       "      <th>...</th>\n",
       "      <th>device_type</th>\n",
       "      <th>device_conn_type</th>\n",
       "      <th>C14</th>\n",
       "      <th>C15</th>\n",
       "      <th>C16</th>\n",
       "      <th>C17</th>\n",
       "      <th>C18</th>\n",
       "      <th>C19</th>\n",
       "      <th>C20</th>\n",
       "      <th>C21</th>\n",
       "    </tr>\n",
       "  </thead>\n",
       "  <tbody>\n",
       "    <tr>\n",
       "      <th>0</th>\n",
       "      <td>1.000009e+18</td>\n",
       "      <td>0</td>\n",
       "      <td>14102100</td>\n",
       "      <td>1005</td>\n",
       "      <td>0</td>\n",
       "      <td>1fbe01fe</td>\n",
       "      <td>f3845767</td>\n",
       "      <td>28905ebd</td>\n",
       "      <td>ecad2386</td>\n",
       "      <td>7801e8d9</td>\n",
       "      <td>...</td>\n",
       "      <td>1</td>\n",
       "      <td>2</td>\n",
       "      <td>15706</td>\n",
       "      <td>320</td>\n",
       "      <td>50</td>\n",
       "      <td>1722</td>\n",
       "      <td>0</td>\n",
       "      <td>35</td>\n",
       "      <td>-1</td>\n",
       "      <td>79</td>\n",
       "    </tr>\n",
       "    <tr>\n",
       "      <th>1</th>\n",
       "      <td>1.000017e+19</td>\n",
       "      <td>0</td>\n",
       "      <td>14102100</td>\n",
       "      <td>1005</td>\n",
       "      <td>0</td>\n",
       "      <td>1fbe01fe</td>\n",
       "      <td>f3845767</td>\n",
       "      <td>28905ebd</td>\n",
       "      <td>ecad2386</td>\n",
       "      <td>7801e8d9</td>\n",
       "      <td>...</td>\n",
       "      <td>1</td>\n",
       "      <td>0</td>\n",
       "      <td>15704</td>\n",
       "      <td>320</td>\n",
       "      <td>50</td>\n",
       "      <td>1722</td>\n",
       "      <td>0</td>\n",
       "      <td>35</td>\n",
       "      <td>100084</td>\n",
       "      <td>79</td>\n",
       "    </tr>\n",
       "    <tr>\n",
       "      <th>2</th>\n",
       "      <td>1.000037e+19</td>\n",
       "      <td>0</td>\n",
       "      <td>14102100</td>\n",
       "      <td>1005</td>\n",
       "      <td>0</td>\n",
       "      <td>1fbe01fe</td>\n",
       "      <td>f3845767</td>\n",
       "      <td>28905ebd</td>\n",
       "      <td>ecad2386</td>\n",
       "      <td>7801e8d9</td>\n",
       "      <td>...</td>\n",
       "      <td>1</td>\n",
       "      <td>0</td>\n",
       "      <td>15704</td>\n",
       "      <td>320</td>\n",
       "      <td>50</td>\n",
       "      <td>1722</td>\n",
       "      <td>0</td>\n",
       "      <td>35</td>\n",
       "      <td>100084</td>\n",
       "      <td>79</td>\n",
       "    </tr>\n",
       "    <tr>\n",
       "      <th>3</th>\n",
       "      <td>1.000064e+19</td>\n",
       "      <td>0</td>\n",
       "      <td>14102100</td>\n",
       "      <td>1005</td>\n",
       "      <td>0</td>\n",
       "      <td>1fbe01fe</td>\n",
       "      <td>f3845767</td>\n",
       "      <td>28905ebd</td>\n",
       "      <td>ecad2386</td>\n",
       "      <td>7801e8d9</td>\n",
       "      <td>...</td>\n",
       "      <td>1</td>\n",
       "      <td>0</td>\n",
       "      <td>15706</td>\n",
       "      <td>320</td>\n",
       "      <td>50</td>\n",
       "      <td>1722</td>\n",
       "      <td>0</td>\n",
       "      <td>35</td>\n",
       "      <td>100084</td>\n",
       "      <td>79</td>\n",
       "    </tr>\n",
       "    <tr>\n",
       "      <th>4</th>\n",
       "      <td>1.000068e+19</td>\n",
       "      <td>0</td>\n",
       "      <td>14102100</td>\n",
       "      <td>1005</td>\n",
       "      <td>1</td>\n",
       "      <td>fe8cc448</td>\n",
       "      <td>9166c161</td>\n",
       "      <td>0569f928</td>\n",
       "      <td>ecad2386</td>\n",
       "      <td>7801e8d9</td>\n",
       "      <td>...</td>\n",
       "      <td>1</td>\n",
       "      <td>0</td>\n",
       "      <td>18993</td>\n",
       "      <td>320</td>\n",
       "      <td>50</td>\n",
       "      <td>2161</td>\n",
       "      <td>0</td>\n",
       "      <td>35</td>\n",
       "      <td>-1</td>\n",
       "      <td>157</td>\n",
       "    </tr>\n",
       "  </tbody>\n",
       "</table>\n",
       "<p>5 rows × 24 columns</p>\n",
       "</div>"
      ],
      "text/plain": [
       "             id  click      hour    C1  banner_pos   site_id site_domain  \\\n",
       "0  1.000009e+18      0  14102100  1005           0  1fbe01fe    f3845767   \n",
       "1  1.000017e+19      0  14102100  1005           0  1fbe01fe    f3845767   \n",
       "2  1.000037e+19      0  14102100  1005           0  1fbe01fe    f3845767   \n",
       "3  1.000064e+19      0  14102100  1005           0  1fbe01fe    f3845767   \n",
       "4  1.000068e+19      0  14102100  1005           1  fe8cc448    9166c161   \n",
       "\n",
       "  site_category    app_id app_domain  ... device_type device_conn_type    C14  \\\n",
       "0      28905ebd  ecad2386   7801e8d9  ...           1                2  15706   \n",
       "1      28905ebd  ecad2386   7801e8d9  ...           1                0  15704   \n",
       "2      28905ebd  ecad2386   7801e8d9  ...           1                0  15704   \n",
       "3      28905ebd  ecad2386   7801e8d9  ...           1                0  15706   \n",
       "4      0569f928  ecad2386   7801e8d9  ...           1                0  18993   \n",
       "\n",
       "   C15  C16   C17  C18  C19     C20  C21  \n",
       "0  320   50  1722    0   35      -1   79  \n",
       "1  320   50  1722    0   35  100084   79  \n",
       "2  320   50  1722    0   35  100084   79  \n",
       "3  320   50  1722    0   35  100084   79  \n",
       "4  320   50  2161    0   35      -1  157  \n",
       "\n",
       "[5 rows x 24 columns]"
      ]
     },
     "execution_count": 6,
     "metadata": {},
     "output_type": "execute_result"
    }
   ],
   "source": [
    "#del train\n",
    "train = pd.read_csv(os.path.join(path_raw_data, 'train.csv'), nrows = 1000000)\n",
    "train.head()"
   ]
  },
  {
   "cell_type": "markdown",
   "metadata": {},
   "source": [
    " * 看是否需要進行補值 "
   ]
  },
  {
   "cell_type": "code",
   "execution_count": 7,
   "metadata": {
    "scrolled": true
   },
   "outputs": [
    {
     "data": {
      "text/plain": [
       "id                  False\n",
       "click               False\n",
       "hour                False\n",
       "C1                  False\n",
       "banner_pos          False\n",
       "site_id             False\n",
       "site_domain         False\n",
       "site_category       False\n",
       "app_id              False\n",
       "app_domain          False\n",
       "app_category        False\n",
       "device_id           False\n",
       "device_ip           False\n",
       "device_model        False\n",
       "device_type         False\n",
       "device_conn_type    False\n",
       "C14                 False\n",
       "C15                 False\n",
       "C16                 False\n",
       "C17                 False\n",
       "C18                 False\n",
       "C19                 False\n",
       "C20                 False\n",
       "C21                 False\n",
       "dtype: bool"
      ]
     },
     "execution_count": 7,
     "metadata": {},
     "output_type": "execute_result"
    }
   ],
   "source": [
    "##查看缺失值情況，(各欄位皆無NULL，資料完整)\n",
    "train.isnull().any()  "
   ]
  },
  {
   "cell_type": "code",
   "execution_count": 8,
   "metadata": {},
   "outputs": [
    {
     "data": {
      "text/html": [
       "<div>\n",
       "<style scoped>\n",
       "    .dataframe tbody tr th:only-of-type {\n",
       "        vertical-align: middle;\n",
       "    }\n",
       "\n",
       "    .dataframe tbody tr th {\n",
       "        vertical-align: top;\n",
       "    }\n",
       "\n",
       "    .dataframe thead th {\n",
       "        text-align: right;\n",
       "    }\n",
       "</style>\n",
       "<table border=\"1\" class=\"dataframe\">\n",
       "  <thead>\n",
       "    <tr style=\"text-align: right;\">\n",
       "      <th></th>\n",
       "      <th>id</th>\n",
       "      <th>click</th>\n",
       "      <th>hour</th>\n",
       "      <th>C1</th>\n",
       "      <th>banner_pos</th>\n",
       "      <th>device_type</th>\n",
       "      <th>device_conn_type</th>\n",
       "      <th>C14</th>\n",
       "      <th>C15</th>\n",
       "      <th>C16</th>\n",
       "      <th>C17</th>\n",
       "      <th>C18</th>\n",
       "      <th>C19</th>\n",
       "      <th>C20</th>\n",
       "      <th>C21</th>\n",
       "    </tr>\n",
       "  </thead>\n",
       "  <tbody>\n",
       "    <tr>\n",
       "      <th>count</th>\n",
       "      <td>1.000000e+06</td>\n",
       "      <td>1000000.000000</td>\n",
       "      <td>1.000000e+06</td>\n",
       "      <td>1000000.000000</td>\n",
       "      <td>1000000.000000</td>\n",
       "      <td>1000000.000000</td>\n",
       "      <td>1000000.000000</td>\n",
       "      <td>1000000.000000</td>\n",
       "      <td>1000000.000000</td>\n",
       "      <td>1000000.000000</td>\n",
       "      <td>1000000.000000</td>\n",
       "      <td>1000000.000000</td>\n",
       "      <td>1000000.000000</td>\n",
       "      <td>1000000.000000</td>\n",
       "      <td>1000000.000000</td>\n",
       "    </tr>\n",
       "    <tr>\n",
       "      <th>mean</th>\n",
       "      <td>9.376314e+18</td>\n",
       "      <td>0.160219</td>\n",
       "      <td>1.410210e+07</td>\n",
       "      <td>1005.088166</td>\n",
       "      <td>0.229922</td>\n",
       "      <td>1.025540</td>\n",
       "      <td>0.223363</td>\n",
       "      <td>18262.203151</td>\n",
       "      <td>318.965808</td>\n",
       "      <td>56.495546</td>\n",
       "      <td>2041.031112</td>\n",
       "      <td>1.452262</td>\n",
       "      <td>190.779388</td>\n",
       "      <td>45505.857239</td>\n",
       "      <td>69.936118</td>\n",
       "    </tr>\n",
       "    <tr>\n",
       "      <th>std</th>\n",
       "      <td>5.236908e+18</td>\n",
       "      <td>0.366809</td>\n",
       "      <td>1.493256e+00</td>\n",
       "      <td>1.156928</td>\n",
       "      <td>0.464627</td>\n",
       "      <td>0.453899</td>\n",
       "      <td>0.667164</td>\n",
       "      <td>3510.366302</td>\n",
       "      <td>19.452897</td>\n",
       "      <td>36.546944</td>\n",
       "      <td>441.200965</td>\n",
       "      <td>1.362637</td>\n",
       "      <td>273.439286</td>\n",
       "      <td>49843.810147</td>\n",
       "      <td>38.513846</td>\n",
       "    </tr>\n",
       "    <tr>\n",
       "      <th>min</th>\n",
       "      <td>9.984920e+12</td>\n",
       "      <td>0.000000</td>\n",
       "      <td>1.410210e+07</td>\n",
       "      <td>1001.000000</td>\n",
       "      <td>0.000000</td>\n",
       "      <td>0.000000</td>\n",
       "      <td>0.000000</td>\n",
       "      <td>375.000000</td>\n",
       "      <td>120.000000</td>\n",
       "      <td>20.000000</td>\n",
       "      <td>112.000000</td>\n",
       "      <td>0.000000</td>\n",
       "      <td>33.000000</td>\n",
       "      <td>-1.000000</td>\n",
       "      <td>13.000000</td>\n",
       "    </tr>\n",
       "    <tr>\n",
       "      <th>25%</th>\n",
       "      <td>4.846660e+18</td>\n",
       "      <td>0.000000</td>\n",
       "      <td>1.410210e+07</td>\n",
       "      <td>1005.000000</td>\n",
       "      <td>0.000000</td>\n",
       "      <td>1.000000</td>\n",
       "      <td>0.000000</td>\n",
       "      <td>15707.000000</td>\n",
       "      <td>320.000000</td>\n",
       "      <td>50.000000</td>\n",
       "      <td>1722.000000</td>\n",
       "      <td>0.000000</td>\n",
       "      <td>35.000000</td>\n",
       "      <td>-1.000000</td>\n",
       "      <td>43.000000</td>\n",
       "    </tr>\n",
       "    <tr>\n",
       "      <th>50%</th>\n",
       "      <td>9.834387e+18</td>\n",
       "      <td>0.000000</td>\n",
       "      <td>1.410210e+07</td>\n",
       "      <td>1005.000000</td>\n",
       "      <td>0.000000</td>\n",
       "      <td>1.000000</td>\n",
       "      <td>0.000000</td>\n",
       "      <td>19251.000000</td>\n",
       "      <td>320.000000</td>\n",
       "      <td>50.000000</td>\n",
       "      <td>2161.000000</td>\n",
       "      <td>1.000000</td>\n",
       "      <td>39.000000</td>\n",
       "      <td>-1.000000</td>\n",
       "      <td>61.000000</td>\n",
       "    </tr>\n",
       "    <tr>\n",
       "      <th>75%</th>\n",
       "      <td>1.373053e+19</td>\n",
       "      <td>0.000000</td>\n",
       "      <td>1.410210e+07</td>\n",
       "      <td>1005.000000</td>\n",
       "      <td>0.000000</td>\n",
       "      <td>1.000000</td>\n",
       "      <td>0.000000</td>\n",
       "      <td>21153.000000</td>\n",
       "      <td>320.000000</td>\n",
       "      <td>50.000000</td>\n",
       "      <td>2420.000000</td>\n",
       "      <td>3.000000</td>\n",
       "      <td>297.000000</td>\n",
       "      <td>100084.000000</td>\n",
       "      <td>79.000000</td>\n",
       "    </tr>\n",
       "    <tr>\n",
       "      <th>max</th>\n",
       "      <td>1.844670e+19</td>\n",
       "      <td>1.000000</td>\n",
       "      <td>1.410210e+07</td>\n",
       "      <td>1012.000000</td>\n",
       "      <td>7.000000</td>\n",
       "      <td>5.000000</td>\n",
       "      <td>5.000000</td>\n",
       "      <td>21705.000000</td>\n",
       "      <td>1024.000000</td>\n",
       "      <td>1024.000000</td>\n",
       "      <td>2497.000000</td>\n",
       "      <td>3.000000</td>\n",
       "      <td>1835.000000</td>\n",
       "      <td>100248.000000</td>\n",
       "      <td>195.000000</td>\n",
       "    </tr>\n",
       "  </tbody>\n",
       "</table>\n",
       "</div>"
      ],
      "text/plain": [
       "                 id           click          hour              C1  \\\n",
       "count  1.000000e+06  1000000.000000  1.000000e+06  1000000.000000   \n",
       "mean   9.376314e+18        0.160219  1.410210e+07     1005.088166   \n",
       "std    5.236908e+18        0.366809  1.493256e+00        1.156928   \n",
       "min    9.984920e+12        0.000000  1.410210e+07     1001.000000   \n",
       "25%    4.846660e+18        0.000000  1.410210e+07     1005.000000   \n",
       "50%    9.834387e+18        0.000000  1.410210e+07     1005.000000   \n",
       "75%    1.373053e+19        0.000000  1.410210e+07     1005.000000   \n",
       "max    1.844670e+19        1.000000  1.410210e+07     1012.000000   \n",
       "\n",
       "           banner_pos     device_type  device_conn_type             C14  \\\n",
       "count  1000000.000000  1000000.000000    1000000.000000  1000000.000000   \n",
       "mean         0.229922        1.025540          0.223363    18262.203151   \n",
       "std          0.464627        0.453899          0.667164     3510.366302   \n",
       "min          0.000000        0.000000          0.000000      375.000000   \n",
       "25%          0.000000        1.000000          0.000000    15707.000000   \n",
       "50%          0.000000        1.000000          0.000000    19251.000000   \n",
       "75%          0.000000        1.000000          0.000000    21153.000000   \n",
       "max          7.000000        5.000000          5.000000    21705.000000   \n",
       "\n",
       "                  C15             C16             C17             C18  \\\n",
       "count  1000000.000000  1000000.000000  1000000.000000  1000000.000000   \n",
       "mean       318.965808       56.495546     2041.031112        1.452262   \n",
       "std         19.452897       36.546944      441.200965        1.362637   \n",
       "min        120.000000       20.000000      112.000000        0.000000   \n",
       "25%        320.000000       50.000000     1722.000000        0.000000   \n",
       "50%        320.000000       50.000000     2161.000000        1.000000   \n",
       "75%        320.000000       50.000000     2420.000000        3.000000   \n",
       "max       1024.000000     1024.000000     2497.000000        3.000000   \n",
       "\n",
       "                  C19             C20             C21  \n",
       "count  1000000.000000  1000000.000000  1000000.000000  \n",
       "mean       190.779388    45505.857239       69.936118  \n",
       "std        273.439286    49843.810147       38.513846  \n",
       "min         33.000000       -1.000000       13.000000  \n",
       "25%         35.000000       -1.000000       43.000000  \n",
       "50%         39.000000       -1.000000       61.000000  \n",
       "75%        297.000000   100084.000000       79.000000  \n",
       "max       1835.000000   100248.000000      195.000000  "
      ]
     },
     "execution_count": 8,
     "metadata": {},
     "output_type": "execute_result"
    }
   ],
   "source": [
    "train.describe() #各變數的最大值、最小值、平均值、標準差、個數、四分位數"
   ]
  },
  {
   "cell_type": "markdown",
   "metadata": {},
   "source": [
    "## 1. EDA 探索性資料分析"
   ]
  },
  {
   "cell_type": "code",
   "execution_count": 9,
   "metadata": {},
   "outputs": [
    {
     "data": {
      "text/plain": [
       "<function matplotlib.pyplot.show(*args, **kw)>"
      ]
     },
     "execution_count": 9,
     "metadata": {},
     "output_type": "execute_result"
    },
    {
     "data": {
      "image/png": "[encoded data removed]",
      "text/plain": [
       "<Figure size 432x288 with 1 Axes>"
      ]
     },
     "metadata": {},
     "output_type": "display_data"
    }
   ],
   "source": [
    "sns.countplot(train['click']) #是屬於一種不平衡資料\n",
    "plt.show"
   ]
  },
  {
   "cell_type": "code",
   "execution_count": 10,
   "metadata": {},
   "outputs": [
    {
     "data": {
      "text/plain": [
       "5.241457005723416"
      ]
     },
     "execution_count": 10,
     "metadata": {},
     "output_type": "execute_result"
    }
   ],
   "source": [
    "#\"不會點擊的人數\"是\"會點擊的人數\"的5.2倍，也就是六個人裡，有五個不會click、一個人會click\n",
    "train.groupby(['click']).count()['id'][0]/train.groupby(['click']).count()['id'][1]"
   ]
  },
  {
   "cell_type": "code",
   "execution_count": 11,
   "metadata": {},
   "outputs": [
    {
     "data": {
      "text/plain": [
       "<function matplotlib.pyplot.show(*args, **kw)>"
      ]
     },
     "execution_count": 11,
     "metadata": {},
     "output_type": "execute_result"
    },
    {
     "data": {
      "image/png": "[encoded data removed]",
      "text/plain": [
       "<Figure size 432x288 with 1 Axes>"
      ]
     },
     "metadata": {},
     "output_type": "display_data"
    }
   ],
   "source": [
    "sns.countplot(train.banner_pos) #廣告位置分布，主要於0跟1\n",
    "plt.show"
   ]
  },
  {
   "cell_type": "code",
   "execution_count": 12,
   "metadata": {
    "scrolled": true
   },
   "outputs": [
    {
     "data": {
      "text/plain": [
       "<function matplotlib.pyplot.show(*args, **kw)>"
      ]
     },
     "execution_count": 12,
     "metadata": {},
     "output_type": "execute_result"
    },
    {
     "data": {
      "image/png": "[encoded data removed]",
      "text/plain": [
       "<Figure size 432x288 with 1 Axes>"
      ]
     },
     "metadata": {},
     "output_type": "display_data"
    }
   ],
   "source": [
    "sns.countplot(train.site_category) #公司廣告類型主要四種佔大宗\n",
    "plt.show"
   ]
  },
  {
   "cell_type": "code",
   "execution_count": 13,
   "metadata": {
    "scrolled": true
   },
   "outputs": [
    {
     "data": {
      "text/plain": [
       "Counter({'28905ebd': 262519,\n",
       "         '0569f928': 4505,\n",
       "         'f028772b': 260471,\n",
       "         '50e219e0': 360056,\n",
       "         '3e814130': 75062,\n",
       "         '76b2941d': 7880,\n",
       "         'f66779e6': 8842,\n",
       "         '335d28a8': 7251,\n",
       "         '72722551': 2705,\n",
       "         '75fa27f6': 3958,\n",
       "         '110ab22d': 1,\n",
       "         'c0dd3be3': 552,\n",
       "         'bcf865d9': 25,\n",
       "         'a818d37a': 374,\n",
       "         '42a36e14': 13,\n",
       "         'e787de0e': 281,\n",
       "         '5378d028': 10,\n",
       "         '9ccfa2ea': 4,\n",
       "         '70fb0e29': 4961,\n",
       "         'dedf689d': 508,\n",
       "         '8fd0aea4': 22})"
      ]
     },
     "execution_count": 13,
     "metadata": {},
     "output_type": "execute_result"
    }
   ],
   "source": [
    "#網點類別共21種，其中50e219e0出現36萬次、28905ebd/f028772b皆出現26萬次\n",
    "from collections import Counter\n",
    "counts = Counter(train['site_category'])\n",
    "counts "
   ]
  },
  {
   "cell_type": "code",
   "execution_count": 14,
   "metadata": {},
   "outputs": [
    {
     "data": {
      "text/plain": [
       "site_category\n",
       "50e219e0    36.0056\n",
       "28905ebd    26.2519\n",
       "f028772b    26.0471\n",
       "3e814130     7.5062\n",
       "f66779e6     0.8842\n",
       "76b2941d     0.7880\n",
       "335d28a8     0.7251\n",
       "70fb0e29     0.4961\n",
       "0569f928     0.4505\n",
       "75fa27f6     0.3958\n",
       "72722551     0.2705\n",
       "c0dd3be3     0.0552\n",
       "dedf689d     0.0508\n",
       "a818d37a     0.0374\n",
       "e787de0e     0.0281\n",
       "bcf865d9     0.0025\n",
       "8fd0aea4     0.0022\n",
       "42a36e14     0.0013\n",
       "5378d028     0.0010\n",
       "9ccfa2ea     0.0004\n",
       "110ab22d     0.0001\n",
       "Name: id, dtype: float64"
      ]
     },
     "execution_count": 14,
     "metadata": {},
     "output_type": "execute_result"
    }
   ],
   "source": [
    "##top3 位置類別分別為 50e219e0 28905ebd  f028772b  占了全部的88%        \n",
    "train.groupby(['site_category']).count()[\"id\"].sort_values(ascending = False)/10000"
   ]
  },
  {
   "cell_type": "code",
   "execution_count": 15,
   "metadata": {},
   "outputs": [
    {
     "data": {
      "text/plain": [
       "<matplotlib.axes._subplots.AxesSubplot at 0x210873880c8>"
      ]
     },
     "execution_count": 15,
     "metadata": {},
     "output_type": "execute_result"
    },
    {
     "data": {
      "image/png": "[encoded data removed]",
      "text/plain": [
       "<Figure size 432x288 with 1 Axes>"
      ]
     },
     "metadata": {},
     "output_type": "display_data"
    }
   ],
   "source": [
    "sns.countplot(x = \"device_type\", hue = \"click\", data = train) #客戶主要來裝置類型 1"
   ]
  },
  {
   "cell_type": "code",
   "execution_count": 16,
   "metadata": {},
   "outputs": [
    {
     "data": {
      "text/plain": [
       "<Figure size 1080x864 with 0 Axes>"
      ]
     },
     "metadata": {},
     "output_type": "display_data"
    },
    {
     "data": {
      "image/png": "[encoded data removed]",
      "text/plain": [
       "<Figure size 432x288 with 1 Axes>"
      ]
     },
     "metadata": {},
     "output_type": "display_data"
    }
   ],
   "source": [
    "fig = plt.figure(figsize = (15,12))  #‘50e219e0’類廣告，點擊數與“點擊數/總數”最高。\n",
    "fig.set(alpha=0.2)  \n",
    "\n",
    "click_0 = train.site_category[train.click == 0].value_counts()\n",
    "click_1 = train.site_category[train.click == 1].value_counts()\n",
    "\n",
    "df=pd.DataFrame({'click':click_0, 'click_1':click_1})\n",
    "df.plot(kind='bar', stacked=True)\n",
    "\n",
    "plt.xlabel(\"site_category\")\n",
    "plt.ylabel(\"count\")\n",
    "plt.show()"
   ]
  },
  {
   "cell_type": "code",
   "execution_count": 17,
   "metadata": {
    "scrolled": false
   },
   "outputs": [
    {
     "data": {
      "text/plain": [
       "85f751fd    332893\n",
       "1fbe01fe    232096\n",
       "d9750ee7     38603\n",
       "e151e245     32359\n",
       "5b08c53b     16455\n",
       "             ...  \n",
       "af62ef47         1\n",
       "d191be52         1\n",
       "dde8c24f         1\n",
       "1289c10f         1\n",
       "911fd6b7         1\n",
       "Name: site_id, Length: 2075, dtype: int64"
      ]
     },
     "execution_count": 17,
     "metadata": {},
     "output_type": "execute_result"
    }
   ],
   "source": [
    "train.site_id.value_counts() #counts最高爲332893 、頻率低於20的，這樣的類別，需要後續處理。"
   ]
  },
  {
   "cell_type": "code",
   "execution_count": 18,
   "metadata": {},
   "outputs": [
    {
     "data": {
      "text/plain": [
       "a99f214a    840265\n",
       "c357dbff      1310\n",
       "936e92fb       482\n",
       "31da1bd0       292\n",
       "787d2bb0       274\n",
       "             ...  \n",
       "b3dea4cb         1\n",
       "9b2e8d5d         1\n",
       "9a3254fd         1\n",
       "dec1f613         1\n",
       "9ff73b11         1\n",
       "Name: device_id, Length: 83431, dtype: int64"
      ]
     },
     "execution_count": 18,
     "metadata": {},
     "output_type": "execute_result"
    }
   ],
   "source": [
    "## device_id中，a99f214a 出現頻率特別高\n",
    "train.device_id.value_counts() "
   ]
  },
  {
   "cell_type": "code",
   "execution_count": 19,
   "metadata": {},
   "outputs": [
    {
     "data": {
      "text/plain": [
       "ecad2386    667107\n",
       "e2fcccd2     32263\n",
       "febd1138     24725\n",
       "54c5d545     12027\n",
       "9c13b419     11481\n",
       "             ...  \n",
       "169af9db         1\n",
       "646b9844         1\n",
       "418c24bc         1\n",
       "887cf5d1         1\n",
       "1347f073         1\n",
       "Name: app_id, Length: 2309, dtype: int64"
      ]
     },
     "execution_count": 19,
     "metadata": {},
     "output_type": "execute_result"
    }
   ],
   "source": [
    "train.app_id.value_counts()"
   ]
  },
  {
   "cell_type": "code",
   "execution_count": 20,
   "metadata": {},
   "outputs": [
    {
     "data": {
      "text/plain": [
       "8a4875bd    59771\n",
       "d787e91b    42206\n",
       "1f0bc64f    37525\n",
       "4ea23a13    19853\n",
       "a0f5f879    17158\n",
       "            ...  \n",
       "6d79a0ad        1\n",
       "d17eb896        1\n",
       "eae9ef59        1\n",
       "53fdbbbc        1\n",
       "ffc554e9        1\n",
       "Name: device_model, Length: 4581, dtype: int64"
      ]
     },
     "execution_count": 20,
     "metadata": {},
     "output_type": "execute_result"
    }
   ],
   "source": [
    "train.device_model.value_counts()"
   ]
  },
  {
   "cell_type": "markdown",
   "metadata": {},
   "source": [
    "## 2. 相關性分析"
   ]
  },
  {
   "cell_type": "markdown",
   "metadata": {},
   "source": [
    "* Ｌabelencoder　類別資料轉換數值型，提供後續特徵工程與建模"
   ]
  },
  {
   "cell_type": "code",
   "execution_count": null,
   "metadata": {},
   "outputs": [],
   "source": [
    "#### C14 與 C17相關性極高，\n",
    "for column in ['C1', 'site_id', 'site_domain',\n",
    "       'site_category', 'app_id', 'app_domain', 'app_category', 'device_id',\n",
    "       'device_ip', 'device_model']:\n",
    "    enc = LabelEncoder()\n",
    "    train[column] = enc.fit_transform(train[column])    \n",
    "sub_train = train.iloc[:, 4:]\n",
    "plt.figure(figsize=(20, 18))\n",
    "sns.heatmap(sub_train.corr().abs(), annot=True)\n",
    "plt.show()"
   ]
  },
  {
   "cell_type": "code",
   "execution_count": 22,
   "metadata": {},
   "outputs": [],
   "source": [
    "#從原始資料，按click的比例進行分層抽樣，取出比分之五的資料量當作訓練集\n",
    "from sklearn.model_selection import StratifiedShuffleSplit\n",
    "train_all = train\n",
    "split = StratifiedShuffleSplit(n_splits=1, train_size=0.05, random_state=42)\n",
    "for train_index, test_index in split.split(train_all, train_all[\"click\"]):\n",
    "    strat_train_set = train_all.loc[train_index]\n",
    "    strat_train_set.to_pickle(\"strat_train_set.pkl\")"
   ]
  },
  {
   "cell_type": "markdown",
   "metadata": {},
   "source": [
    "# 3.data preprocessing 資料預處理"
   ]
  },
  {
   "cell_type": "code",
   "execution_count": 23,
   "metadata": {},
   "outputs": [
    {
     "data": {
      "text/plain": [
       "(0    41989\n",
       " 1     8011\n",
       " Name: click, dtype: int64,\n",
       " 0    839781\n",
       " 1    160219\n",
       " Name: click, dtype: int64)"
      ]
     },
     "execution_count": 23,
     "metadata": {},
     "output_type": "execute_result"
    }
   ],
   "source": [
    "#確認分層結果\n",
    "train = strat_train_set\n",
    "train.click.value_counts(),train_all.click.value_counts()"
   ]
  },
  {
   "cell_type": "code",
   "execution_count": 24,
   "metadata": {},
   "outputs": [
    {
     "data": {
      "text/plain": [
       "click               1.000000\n",
       "C16                 0.119336\n",
       "app_id              0.080976\n",
       "app_domain          0.037816\n",
       "banner_pos          0.031366\n",
       "device_id           0.027993\n",
       "C19                 0.024764\n",
       "site_domain         0.007183\n",
       "id                  0.002797\n",
       "site_category      -0.002540\n",
       "device_model       -0.005318\n",
       "device_ip          -0.009150\n",
       "hour               -0.019493\n",
       "site_id            -0.022487\n",
       "C20                -0.024262\n",
       "C15                -0.037354\n",
       "device_type        -0.042166\n",
       "device_conn_type   -0.045412\n",
       "C18                -0.051038\n",
       "C1                 -0.058686\n",
       "C21                -0.069727\n",
       "app_category       -0.076641\n",
       "C17                -0.108722\n",
       "C14                -0.113422\n",
       "Name: click, dtype: float64"
      ]
     },
     "execution_count": 24,
     "metadata": {},
     "output_type": "execute_result"
    }
   ],
   "source": [
    "#反映變數click與其他變數的相關性，C16與click相關性最大\n",
    "corr_matrix = train.corr()\n",
    "corr_matrix[\"click\"].sort_values(ascending = False)"
   ]
  },
  {
   "cell_type": "code",
   "execution_count": 25,
   "metadata": {},
   "outputs": [],
   "source": [
    "strat_train_set.to_csv('strat_train_set.csv')\n",
    "data_type = {'id': 'U', 'hour': 'U', 'device_type':'U', 'C1':'U', 'C15':'U', 'C16':'U'}\n",
    "train = pd.read_csv(os.path.join(path_raw_data, 'strat_train_set.csv'), dtype=data_type, index_col='id')\n",
    "test  = pd.read_csv(os.path.join(path_raw_data, 'test.csv'), dtype=data_type, index_col='id')\n",
    "test.insert(0, 'click', 0)\n",
    "tr_ts = pd.concat([test, train], copy=False)"
   ]
  },
  {
   "cell_type": "markdown",
   "metadata": {},
   "source": [
    "* 針對非數值資料，site_id、site_domain、app_id、device_model 將四個特徵存在許多低頻率類別"
   ]
  },
  {
   "cell_type": "code",
   "execution_count": 26,
   "metadata": {},
   "outputs": [],
   "source": [
    "#網站代碼(site_id)\n",
    "site_id_count = tr_ts.site_id.value_counts()\n",
    "site_id_category={}\n",
    "site_id_category[0] = site_id_count.loc[site_id_count>20].index.values\n",
    "site_id_category[1] = site_id_count.loc[site_id_count<=20].index.values\n",
    "site_id_C_type_dict = {}\n",
    "for key, values in site_id_category.items():\n",
    "    for item in values:\n",
    "        site_id_C_type_dict[str(item)] = key\n",
    "json.dump(site_id_C_type_dict, open(\"site_id_C_type_dict.json\", \"w\"))"
   ]
  },
  {
   "cell_type": "code",
   "execution_count": 27,
   "metadata": {},
   "outputs": [
    {
     "data": {
      "text/html": [
       "<div>\n",
       "<style scoped>\n",
       "    .dataframe tbody tr th:only-of-type {\n",
       "        vertical-align: middle;\n",
       "    }\n",
       "\n",
       "    .dataframe tbody tr th {\n",
       "        vertical-align: top;\n",
       "    }\n",
       "\n",
       "    .dataframe thead th {\n",
       "        text-align: right;\n",
       "    }\n",
       "</style>\n",
       "<table border=\"1\" class=\"dataframe\">\n",
       "  <thead>\n",
       "    <tr style=\"text-align: right;\">\n",
       "      <th></th>\n",
       "      <th>click</th>\n",
       "      <th>hour</th>\n",
       "      <th>C1</th>\n",
       "      <th>banner_pos</th>\n",
       "      <th>site_id</th>\n",
       "      <th>site_domain</th>\n",
       "      <th>site_category</th>\n",
       "      <th>app_id</th>\n",
       "      <th>app_domain</th>\n",
       "      <th>app_category</th>\n",
       "      <th>...</th>\n",
       "      <th>device_conn_type</th>\n",
       "      <th>C14</th>\n",
       "      <th>C15</th>\n",
       "      <th>C16</th>\n",
       "      <th>C17</th>\n",
       "      <th>C18</th>\n",
       "      <th>C19</th>\n",
       "      <th>C20</th>\n",
       "      <th>C21</th>\n",
       "      <th>Unnamed: 0</th>\n",
       "    </tr>\n",
       "    <tr>\n",
       "      <th>id</th>\n",
       "      <th></th>\n",
       "      <th></th>\n",
       "      <th></th>\n",
       "      <th></th>\n",
       "      <th></th>\n",
       "      <th></th>\n",
       "      <th></th>\n",
       "      <th></th>\n",
       "      <th></th>\n",
       "      <th></th>\n",
       "      <th></th>\n",
       "      <th></th>\n",
       "      <th></th>\n",
       "      <th></th>\n",
       "      <th></th>\n",
       "      <th></th>\n",
       "      <th></th>\n",
       "      <th></th>\n",
       "      <th></th>\n",
       "      <th></th>\n",
       "      <th></th>\n",
       "    </tr>\n",
       "  </thead>\n",
       "  <tbody>\n",
       "    <tr>\n",
       "      <th>1.000017e+19</th>\n",
       "      <td>0</td>\n",
       "      <td>14103100</td>\n",
       "      <td>1005</td>\n",
       "      <td>0</td>\n",
       "      <td>235ba823</td>\n",
       "      <td>f6ebf28e</td>\n",
       "      <td>f028772b</td>\n",
       "      <td>ecad2386</td>\n",
       "      <td>7801e8d9</td>\n",
       "      <td>07d7df22</td>\n",
       "      <td>...</td>\n",
       "      <td>0</td>\n",
       "      <td>8330</td>\n",
       "      <td>320</td>\n",
       "      <td>50</td>\n",
       "      <td>761</td>\n",
       "      <td>3</td>\n",
       "      <td>175</td>\n",
       "      <td>100075</td>\n",
       "      <td>23</td>\n",
       "      <td>NaN</td>\n",
       "    </tr>\n",
       "    <tr>\n",
       "      <th>1.000018e+19</th>\n",
       "      <td>0</td>\n",
       "      <td>14103100</td>\n",
       "      <td>1005</td>\n",
       "      <td>0</td>\n",
       "      <td>1fbe01fe</td>\n",
       "      <td>f3845767</td>\n",
       "      <td>28905ebd</td>\n",
       "      <td>ecad2386</td>\n",
       "      <td>7801e8d9</td>\n",
       "      <td>07d7df22</td>\n",
       "      <td>...</td>\n",
       "      <td>0</td>\n",
       "      <td>22676</td>\n",
       "      <td>320</td>\n",
       "      <td>50</td>\n",
       "      <td>2616</td>\n",
       "      <td>0</td>\n",
       "      <td>35</td>\n",
       "      <td>100083</td>\n",
       "      <td>51</td>\n",
       "      <td>NaN</td>\n",
       "    </tr>\n",
       "    <tr>\n",
       "      <th>1.000055e+19</th>\n",
       "      <td>0</td>\n",
       "      <td>14103100</td>\n",
       "      <td>1005</td>\n",
       "      <td>0</td>\n",
       "      <td>1fbe01fe</td>\n",
       "      <td>f3845767</td>\n",
       "      <td>28905ebd</td>\n",
       "      <td>ecad2386</td>\n",
       "      <td>7801e8d9</td>\n",
       "      <td>07d7df22</td>\n",
       "      <td>...</td>\n",
       "      <td>0</td>\n",
       "      <td>22676</td>\n",
       "      <td>320</td>\n",
       "      <td>50</td>\n",
       "      <td>2616</td>\n",
       "      <td>0</td>\n",
       "      <td>35</td>\n",
       "      <td>100083</td>\n",
       "      <td>51</td>\n",
       "      <td>NaN</td>\n",
       "    </tr>\n",
       "    <tr>\n",
       "      <th>1.000109e+19</th>\n",
       "      <td>0</td>\n",
       "      <td>14103100</td>\n",
       "      <td>1005</td>\n",
       "      <td>0</td>\n",
       "      <td>85f751fd</td>\n",
       "      <td>c4e18dd6</td>\n",
       "      <td>50e219e0</td>\n",
       "      <td>51cedd4e</td>\n",
       "      <td>aefc06bd</td>\n",
       "      <td>0f2161f8</td>\n",
       "      <td>...</td>\n",
       "      <td>0</td>\n",
       "      <td>18648</td>\n",
       "      <td>320</td>\n",
       "      <td>50</td>\n",
       "      <td>1092</td>\n",
       "      <td>3</td>\n",
       "      <td>809</td>\n",
       "      <td>100156</td>\n",
       "      <td>61</td>\n",
       "      <td>NaN</td>\n",
       "    </tr>\n",
       "    <tr>\n",
       "      <th>1.000138e+19</th>\n",
       "      <td>0</td>\n",
       "      <td>14103100</td>\n",
       "      <td>1005</td>\n",
       "      <td>0</td>\n",
       "      <td>85f751fd</td>\n",
       "      <td>c4e18dd6</td>\n",
       "      <td>50e219e0</td>\n",
       "      <td>9c13b419</td>\n",
       "      <td>2347f47a</td>\n",
       "      <td>f95efa07</td>\n",
       "      <td>...</td>\n",
       "      <td>0</td>\n",
       "      <td>23160</td>\n",
       "      <td>320</td>\n",
       "      <td>50</td>\n",
       "      <td>2667</td>\n",
       "      <td>0</td>\n",
       "      <td>47</td>\n",
       "      <td>-1</td>\n",
       "      <td>221</td>\n",
       "      <td>NaN</td>\n",
       "    </tr>\n",
       "  </tbody>\n",
       "</table>\n",
       "<p>5 rows × 24 columns</p>\n",
       "</div>"
      ],
      "text/plain": [
       "              click      hour    C1  banner_pos   site_id site_domain  \\\n",
       "id                                                                      \n",
       "1.000017e+19      0  14103100  1005           0  235ba823    f6ebf28e   \n",
       "1.000018e+19      0  14103100  1005           0  1fbe01fe    f3845767   \n",
       "1.000055e+19      0  14103100  1005           0  1fbe01fe    f3845767   \n",
       "1.000109e+19      0  14103100  1005           0  85f751fd    c4e18dd6   \n",
       "1.000138e+19      0  14103100  1005           0  85f751fd    c4e18dd6   \n",
       "\n",
       "             site_category    app_id app_domain app_category  ...  \\\n",
       "id                                                            ...   \n",
       "1.000017e+19      f028772b  ecad2386   7801e8d9     07d7df22  ...   \n",
       "1.000018e+19      28905ebd  ecad2386   7801e8d9     07d7df22  ...   \n",
       "1.000055e+19      28905ebd  ecad2386   7801e8d9     07d7df22  ...   \n",
       "1.000109e+19      50e219e0  51cedd4e   aefc06bd     0f2161f8  ...   \n",
       "1.000138e+19      50e219e0  9c13b419   2347f47a     f95efa07  ...   \n",
       "\n",
       "             device_conn_type    C14  C15 C16   C17  C18  C19     C20  C21  \\\n",
       "id                                                                           \n",
       "1.000017e+19                0   8330  320  50   761    3  175  100075   23   \n",
       "1.000018e+19                0  22676  320  50  2616    0   35  100083   51   \n",
       "1.000055e+19                0  22676  320  50  2616    0   35  100083   51   \n",
       "1.000109e+19                0  18648  320  50  1092    3  809  100156   61   \n",
       "1.000138e+19                0  23160  320  50  2667    0   47      -1  221   \n",
       "\n",
       "              Unnamed: 0  \n",
       "id                        \n",
       "1.000017e+19         NaN  \n",
       "1.000018e+19         NaN  \n",
       "1.000055e+19         NaN  \n",
       "1.000109e+19         NaN  \n",
       "1.000138e+19         NaN  \n",
       "\n",
       "[5 rows x 24 columns]"
      ]
     },
     "execution_count": 27,
     "metadata": {},
     "output_type": "execute_result"
    }
   ],
   "source": [
    "tr_ts.head(5)"
   ]
  },
  {
   "cell_type": "code",
   "execution_count": 28,
   "metadata": {},
   "outputs": [
    {
     "name": "stdout",
     "output_type": "stream",
     "text": [
      "網站代碼出現頻率20次以上有 1298 個、網站代碼出現頻率不超過20次有 2407 個 \n"
     ]
    }
   ],
   "source": [
    "print(\"網站代碼出現頻率20次以上有 %s 個、網站代碼出現頻率不超過20次有 %s 個 \"  \n",
    "      %(sum(site_id_count>20),sum(site_id_count<=20))  )"
   ]
  },
  {
   "cell_type": "code",
   "execution_count": 29,
   "metadata": {},
   "outputs": [],
   "source": [
    "#所在網域(site_domain)\n",
    "site_domain_count = tr_ts.site_domain.value_counts()\n",
    "site_domain_category={}\n",
    "site_domain_category[0] = site_domain_count.loc[site_domain_count>20].index.values\n",
    "site_domain_category[1] = site_domain_count.loc[site_domain_count<=20].index.values\n",
    "\n",
    "site_domain_C_type_dict = {}\n",
    "for key, values in site_domain_category.items():\n",
    "    for item in values:\n",
    "        site_domain_C_type_dict[str(item)] = key\n",
    "json.dump(site_domain_C_type_dict, open(\"site_domain_C_type_dict.json\", \"w\"))"
   ]
  },
  {
   "cell_type": "code",
   "execution_count": 30,
   "metadata": {},
   "outputs": [
    {
     "name": "stdout",
     "output_type": "stream",
     "text": [
      "在同一網域出現頻率20次以上有 1132 個、在同一網域出現頻率不超過20次有 2931 個 \n"
     ]
    }
   ],
   "source": [
    "print(\"在同一網域出現頻率20次以上有 %s 個、在同一網域出現頻率不超過20次有 %s 個 \"  \n",
    "      %(sum(site_domain_count>20),sum(site_domain_count<=20))  )"
   ]
  },
  {
   "cell_type": "code",
   "execution_count": 31,
   "metadata": {},
   "outputs": [],
   "source": [
    "#app代碼 (app_id)\n",
    "app_id_count = tr_ts.app_id.value_counts()\n",
    "app_id_category={}\n",
    "app_id_category[0] = app_id_count.loc[app_id_count>20].index.values\n",
    "app_id_category[1] = app_id_count.loc[app_id_count<=20].index.values\n",
    "\n",
    "app_id_C_type_dict = {}\n",
    "for key, values in app_id_category.items():\n",
    "    for item in values:\n",
    "        app_id_C_type_dict[str(item)] = key\n",
    "json.dump(app_id_C_type_dict, open(\"app_id_C_type_dict.json\", \"w\"))"
   ]
  },
  {
   "cell_type": "code",
   "execution_count": 32,
   "metadata": {},
   "outputs": [
    {
     "name": "stdout",
     "output_type": "stream",
     "text": [
      "同一app代碼出現頻率20次以上有 1199 個、同一app代碼出現頻率不超過20次有 3623 個 \n"
     ]
    }
   ],
   "source": [
    "print(\"同一app代碼出現頻率20次以上有 %s 個、同一app代碼出現頻率不超過20次有 %s 個 \"  \n",
    "      %(sum(app_id_count>20),sum(app_id_count<=20))  )"
   ]
  },
  {
   "cell_type": "code",
   "execution_count": 33,
   "metadata": {},
   "outputs": [],
   "source": [
    "#裝置模式(device_model)\n",
    "device_model_count = tr_ts.device_model.value_counts()\n",
    "device_model_category={}\n",
    "device_model_category[0] = device_model_count.loc[device_model_count>200].index.values\n",
    "device_model_category[1] = device_model_count.loc[device_model_count<=200].index.values\n",
    "\n",
    "device_model_C_type_dict = {}\n",
    "for key, values in device_model_category.items():\n",
    "    for item in values:\n",
    "        device_model_C_type_dict[str(item)] = key\n",
    "json.dump(device_model_C_type_dict, open(\"device_model_C_type_dict.json\", \"w\"))"
   ]
  },
  {
   "cell_type": "code",
   "execution_count": 34,
   "metadata": {
    "scrolled": true
   },
   "outputs": [
    {
     "name": "stdout",
     "output_type": "stream",
     "text": [
      "裝置模型出現頻率200次以上有 3348 個、裝置模型出現頻率不超過200次有 4471 個 \n"
     ]
    }
   ],
   "source": [
    "print(\"裝置模型出現頻率200次以上有 %s 個、裝置模型出現頻率不超過200次有 %s 個 \"  \n",
    "      %(sum(device_model_count>20),sum(device_model_count<=20))  )"
   ]
  },
  {
   "cell_type": "markdown",
   "metadata": {},
   "source": [
    "* 針對參數hour(yymmddhh)處理，分析日期與時間軸變化"
   ]
  },
  {
   "cell_type": "code",
   "execution_count": 35,
   "metadata": {},
   "outputs": [
    {
     "data": {
      "text/plain": [
       "(21.0    50000\n",
       " Name: day, dtype: int64,\n",
       " 4    13338\n",
       " 2    10297\n",
       " 3     9704\n",
       " 1     6867\n",
       " 0     5995\n",
       " 5     3799\n",
       " Name: hour1, dtype: int64)"
      ]
     },
     "execution_count": 35,
     "metadata": {},
     "output_type": "execute_result"
    }
   ],
   "source": [
    "train['day']=np.round(train.hour.apply(int) % 10000 / 100)\n",
    "train['hour1'] = np.round(train.hour.apply(int) % 100)\n",
    "train['day'].value_counts(),train['hour1'].value_counts()"
   ]
  },
  {
   "cell_type": "code",
   "execution_count": 36,
   "metadata": {},
   "outputs": [
    {
     "data": {
      "image/png": "[encoded data removed]",
      "text/plain": [
       "<Figure size 432x288 with 2 Axes>"
      ]
     },
     "metadata": {},
     "output_type": "display_data"
    },
    {
     "name": "stdout",
     "output_type": "stream",
     "text": [
      "4    13338\n",
      "2    10297\n",
      "3     9704\n",
      "1     6867\n",
      "0     5995\n",
      "5     3799\n",
      "Name: hour1, dtype: int64 21.0    50000\n",
      "Name: day, dtype: int64\n"
     ]
    }
   ],
   "source": [
    "##點擊狀況隨時間變呈常態分配，白天中午較高，點擊與日期無明顯趨勢\n",
    "fig, axes = plt.subplots(1, 2)\n",
    "sns.countplot(x=\"hour1\", hue=\"click\",data=train, ax=axes[0])\n",
    "sns.countplot(x=\"day\", hue=\"click\",data=train,ax =axes[1])\n",
    "plt.show()\n",
    "print(train['hour1'].value_counts(),train['day'].value_counts())"
   ]
  },
  {
   "cell_type": "code",
   "execution_count": 37,
   "metadata": {},
   "outputs": [],
   "source": [
    "tr_ts['day'] = tr_ts['hour'].apply(lambda x: x[-4:-2])\n",
    "tr_ts['hour'] = tr_ts['hour'].apply(lambda x: x[-2:])\n",
    "\n",
    "tr_ts['is_device'] = tr_ts['device_id'].apply(lambda x: 0 if x=='a99f214a' else 1)  #針對異常值進行處理\n",
    "\n",
    "\n",
    "app_id_C_type_dict = json.load(open(\"app_id_C_type_dict.json\", \"r\"))\n",
    "site_id_C_type_dict = json.load(open(\"site_id_C_type_dict.json\", \"r\"))\n",
    "site_domain_C_type_dict = json.load(open(\"site_domain_C_type_dict.json\", \"r\"))\n",
    "device_model_C_type_dict = json.load(open(\"device_model_C_type_dict.json\", \"r\"))\n",
    "\n",
    "tr_ts['C_app_id'] = tr_ts[\"app_id\"].apply(lambda x: x if app_id_C_type_dict.get(x)==0 else \"other_app_id\")\n",
    "tr_ts['C_site_id'] = tr_ts['site_id'].apply(lambda x: x if site_id_C_type_dict.get(x)==0 else \"other_site_id\")\n",
    "tr_ts['C_site_domain'] = tr_ts['site_domain'].apply(lambda x: x if site_domain_C_type_dict.get(x)==0 else \"other_site_domain\")\n",
    "tr_ts['C_device_model'] = tr_ts['device_model'].apply(lambda x: x if device_model_C_type_dict.get(x)==0 else \"other_device_model\")\n"
   ]
  },
  {
   "cell_type": "code",
   "execution_count": 38,
   "metadata": {
    "scrolled": true
   },
   "outputs": [
    {
     "data": {
      "image/png": "[encoded data removed]",
      "text/plain": [
       "<Figure size 432x288 with 2 Axes>"
      ]
     },
     "metadata": {},
     "output_type": "display_data"
    },
    {
     "name": "stdout",
     "output_type": "stream",
     "text": [
      "320    47670\n",
      "300     1781\n",
      "216      460\n",
      "728       89\n",
      "Name: C15, dtype: int64 50     47862\n",
      "250     1559\n",
      "36       460\n",
      "90        89\n",
      "480       30\n",
      "Name: C16, dtype: int64\n"
     ]
    }
   ],
   "source": [
    "fig, axes = plt.subplots(1, 2)\n",
    "sns.countplot(x=\"C15\", hue=\"click\",data=train, ax =axes[0])\n",
    "sns.countplot(x=\"C16\", hue=\"click\",data=train, ax =axes[1])\n",
    "plt.show()\n",
    "print(train['C15'].value_counts(),train['C16'].value_counts())"
   ]
  },
  {
   "cell_type": "markdown",
   "metadata": {},
   "source": [
    "* 特徵組合:將分布相似的兩個特徵進行合併"
   ]
  },
  {
   "cell_type": "code",
   "execution_count": 39,
   "metadata": {},
   "outputs": [],
   "source": [
    "tr_ts[\"C_pix\"] = tr_ts[\"C15\"] + '&' + tr_ts[\"C16\"]\n",
    "tr_ts[\"C_device_type_1\"] = tr_ts[\"device_type\"] + '&' + tr_ts[\"C1\"]\n",
    "\n",
    "tr_ts.drop(['device_id', \"device_type\", 'app_id', 'site_id', 'site_domain', 'device_model',\"C1\", \"C17\", 'C15', 'C16'], axis=1, inplace=True)"
   ]
  },
  {
   "cell_type": "code",
   "execution_count": 40,
   "metadata": {
    "scrolled": true
   },
   "outputs": [
    {
     "name": "stdout",
     "output_type": "stream",
     "text": [
      "convert hour...\n",
      "convert banner_pos...\n",
      "convert site_category...\n",
      "convert app_domain...\n",
      "convert app_category...\n",
      "convert device_conn_type...\n",
      "convert C14...\n",
      "convert C18...\n",
      "convert C19...\n",
      "convert C20...\n",
      "convert C21...\n",
      "convert is_device...\n",
      "convert C_app_id...\n",
      "convert C_site_id...\n",
      "convert C_site_domain...\n",
      "convert C_device_model...\n",
      "convert C_pix...\n",
      "convert C_device_type_1...\n"
     ]
    }
   ],
   "source": [
    "#將上述整理的類別變數及原先類別變數進行labelencoder，使類別變數能建立模型\n",
    "start_time = time.time()\n",
    "lenc = preprocessing.LabelEncoder()\n",
    "C_fields = ['hour', 'banner_pos', 'site_category', 'app_domain', 'app_category',\n",
    "            'device_conn_type', 'C14', 'C18', 'C19', 'C20','C21', 'is_device', 'C_app_id', 'C_site_id', \n",
    "            'C_site_domain', 'C_device_model', 'C_pix', 'C_device_type_1']\n",
    "for f, column in enumerate(C_fields):\n",
    "    print(\"convert \" + column + \"...\")\n",
    "    tr_ts[column] = lenc.fit_transform(tr_ts[column].apply(str))\n",
    "\n",
    "dummies_site_category = pd.get_dummies(tr_ts['site_category'], prefix = 'site_category')\n",
    "dummies_app_category = pd.get_dummies(tr_ts['app_category'], prefix = 'app_category')\n",
    "\n",
    "tr_ts_new = pd.concat([tr_ts, dummies_site_category, dummies_app_category], axis=1)\n",
    "tr_ts_new.drop(['site_category', 'app_category'], axis = 1, inplace=True)\n"
   ]
  },
  {
   "cell_type": "code",
   "execution_count": 43,
   "metadata": {},
   "outputs": [],
   "source": [
    "tr_ts_new.iloc[:test.shape[0],].to_csv('train_FE.csv')\n",
    "tr_ts_new.iloc[test.shape[0]:,].to_csv('test_FE.csv')"
   ]
  },
  {
   "cell_type": "code",
   "execution_count": 44,
   "metadata": {},
   "outputs": [
    {
     "name": "stderr",
     "output_type": "stream",
     "text": [
      "C:\\Users\\sam32564\\anaconda3\\lib\\site-packages\\ipykernel_launcher.py:19: DeprecationWarning: The default dtype for empty Series will be 'object' instead of 'float64' in a future version. Specify a dtype explicitly to silence this warning.\n",
      "C:\\Users\\sam32564\\anaconda3\\lib\\site-packages\\ipykernel_launcher.py:20: DeprecationWarning: The default dtype for empty Series will be 'object' instead of 'float64' in a future version. Specify a dtype explicitly to silence this warning.\n"
     ]
    }
   ],
   "source": [
    "##新增其他變數\n",
    "import csv\n",
    "from collections import defaultdict\n",
    "\n",
    "site_id_users = defaultdict(set)\n",
    "app_id_users = defaultdict(set)\n",
    "\n",
    "with open(os.path.join(path_raw_data, 'train_FE.csv'), 'r') as csv_file:\n",
    "    for i, row in enumerate(csv.DictReader(csv_file), start=1):\n",
    "        site_id_users[row['C_site_id']].add(row['device_ip'])\n",
    "        app_id_users[row['C_app_id']].add(row['device_ip'])\n",
    "\n",
    "\n",
    "with open(os.path.join(path_raw_data, 'test_FE.csv'), 'r') as csv_file:\n",
    "    for i, row in enumerate(csv.DictReader(csv_file), start=1):\n",
    "        site_id_users[row['C_site_id']].add(row['device_ip'])\n",
    "        app_id_users[row['C_app_id']].add(row['device_ip'])\n",
    "        \n",
    "app_id_dict = pd.Series()\n",
    "site_id_dict = pd.Series()\n",
    "\n",
    "for item in app_id_users:\n",
    "    app_id_dict[item] = int(np.log10(len(app_id_users[item])))\n",
    "\n",
    "for item in site_id_users:\n",
    "    site_id_dict[item] = int(np.log10(len(site_id_users[item])))\n",
    "\n",
    "app_id_dict = app_id_dict.sort_values(ascending=False)\n",
    "site_id_dict = site_id_dict.sort_values(ascending=False)\n",
    "\n",
    "app_id_users = app_id_dict.to_dict()\n",
    "site_id_users = site_id_dict.to_dict()\n",
    "\n",
    "\n",
    "test  = pd.read_csv(os.path.join(path_raw_data, 'test_FE.csv'), dtype={'id': 'U'}, index_col='id')\n",
    "train = pd.read_csv(os.path.join(path_raw_data, 'train_FE.csv'), dtype={'id': 'U'}, index_col='id')\n",
    "tr_ts = pd.concat([test, train], copy=False)\n",
    "\n",
    "tr_ts['app_id_users'] = tr_ts.C_app_id.apply(lambda x: app_id_users[str(x)] if str(x) in app_id_users else 0)\n",
    "tr_ts['site_id_users'] = tr_ts.C_site_id.apply(lambda x: site_id_users[str(x)] if str(x) in site_id_users else 0)"
   ]
  },
  {
   "cell_type": "code",
   "execution_count": 45,
   "metadata": {},
   "outputs": [],
   "source": [
    "import sklearn.preprocessing as preprocessing\n",
    "# 標準化減少變數間因尺度過大，影響其變數本身重要性\n",
    "scaler = preprocessing.StandardScaler()\n",
    "age_scale_param = scaler.fit(tr_ts[['C14','C18','C19','C20','C21']])\n",
    "tr_ts[['C14','C18','C19','C20','C21']] = age_scale_param.transform(tr_ts[['C14','C18','C19','C20','C21']])"
   ]
  },
  {
   "cell_type": "code",
   "execution_count": 46,
   "metadata": {},
   "outputs": [],
   "source": [
    "#存檔csv記錄下來\n",
    "tr_ts.iloc[:test.shape[0],].to_csv('ts_FE.csv')\n",
    "tr_ts.iloc[test.shape[0]:,].to_csv('tr_FE.csv')"
   ]
  },
  {
   "cell_type": "markdown",
   "metadata": {},
   "source": [
    "# 4. 特徵篩選-以xgboost模型，調優參數"
   ]
  },
  {
   "cell_type": "code",
   "execution_count": 3,
   "metadata": {},
   "outputs": [
    {
     "name": "stdout",
     "output_type": "stream",
     "text": [
      "Fitting 5 folds for each of 5 candidates, totalling 25 fits\n"
     ]
    },
    {
     "name": "stderr",
     "output_type": "stream",
     "text": [
      "[Parallel(n_jobs=4)]: Using backend LokyBackend with 4 concurrent workers.\n",
      "[Parallel(n_jobs=4)]: Done  25 out of  25 | elapsed:  4.8min finished\n"
     ]
    },
    {
     "name": "stdout",
     "output_type": "stream",
     "text": [
      "每輪迭代運行結果:{'mean_fit_time': array([27.05005155, 33.87526078, 40.4887197 , 47.23134122, 52.90841479]), 'std_fit_time': array([0.06945875, 0.11460418, 0.08412175, 0.09852726, 2.32563021]), 'mean_score_time': array([0.2593821 , 0.31657143, 0.38437753, 0.47187905, 0.57712135]), 'std_score_time': array([0.00765686, 0.00814405, 0.00764776, 0.0062531 , 0.05539917]), 'param_n_estimators': masked_array(data=[400, 500, 600, 700, 800],\n",
      "             mask=[False, False, False, False, False],\n",
      "       fill_value='?',\n",
      "            dtype=object), 'params': [{'n_estimators': 400}, {'n_estimators': 500}, {'n_estimators': 600}, {'n_estimators': 700}, {'n_estimators': 800}], 'split0_test_score': array([-0.39992122, -0.40185395, -0.4034871 , -0.40605893, -0.4080496 ]), 'split1_test_score': array([-0.40137715, -0.40337275, -0.40544902, -0.40708685, -0.4090039 ]), 'split2_test_score': array([-0.39868293, -0.39971222, -0.4010759 , -0.40204727, -0.40359587]), 'split3_test_score': array([-0.40117014, -0.40260056, -0.40448268, -0.40628958, -0.40831782]), 'split4_test_score': array([-0.39928907, -0.40104816, -0.40272945, -0.40435547, -0.405575  ]), 'mean_test_score': array([-0.4000881 , -0.40171753, -0.40344483, -0.40516762, -0.40690844]), 'std_test_score': array([0.00104626, 0.0012655 , 0.00149795, 0.00179627, 0.00202142]), 'rank_test_score': array([1, 2, 3, 4, 5])}\n",
      "參數的最佳取值：{'n_estimators': 400}\n",
      "最佳模型得分:-0.40008810295919306\n",
      "It cost 325.71043586730957 seconds\n"
     ]
    }
   ],
   "source": [
    "import pandas as pd\n",
    "import numpy as np\n",
    "import xgboost as xgb\n",
    "from xgboost.sklearn import XGBClassifier\n",
    "from sklearn.metrics import accuracy_score #評估指標\n",
    "from sklearn.metrics import roc_auc_score\n",
    "from sklearn.metrics import log_loss\n",
    "from sklearn.model_selection import cross_val_score\n",
    "from sklearn.model_selection import GridSearchCV\n",
    "from sklearn.model_selection import train_test_split\n",
    "import matplotlib.pyplot as plt\n",
    "start_time = time.time()\n",
    "\n",
    "if __name__ == '__main__':\n",
    "\n",
    "    train = pd.read_csv('tr_FE.csv')\n",
    "    test = pd.read_csv('ts_FE.csv')\n",
    "    \n",
    "    y_train = train.click\n",
    "    X_train = train.drop(['click', 'device_ip', 'Unnamed: 0'], axis = 1)\n",
    "\n",
    "    #X_test = loadTestData(testFilePath)\n",
    "\n",
    "    cv_params = {'n_estimators': [400, 500, 600, 700, 800]}\n",
    "    other_params = {'learning_rate': 0.1, \n",
    "    'n_estimators': 500, \n",
    "    'max_depth': 5, \n",
    "    'min_child_weight': 1, \n",
    "    'seed': 0,\n",
    "    'subsample': 0.8, \n",
    "    'objective' : 'binary:logistic',\n",
    "    'colsample_bytree': 0.8, \n",
    "    'gamma': 0,  \n",
    "    }\n",
    "    \n",
    "\n",
    "    model = xgb.XGBClassifier(**other_params)\n",
    "    optimized_GBM = GridSearchCV(estimator=model, param_grid=cv_params, scoring='neg_log_loss', cv=5, verbose=1, n_jobs=4)\n",
    "    optimized_GBM.fit(X_train, y_train)\n",
    "    evalute_result = optimized_GBM.cv_results_\n",
    "\n",
    "    print('每輪迭代運行結果:{0}'.format(evalute_result))\n",
    "    print('參數的最佳取值：{0}'.format(optimized_GBM.best_params_))\n",
    "    print('最佳模型得分:{0}'.format(optimized_GBM.best_score_))\n",
    "    print(\"It cost %s seconds\" % (time.time() - start_time))"
   ]
  },
  {
   "cell_type": "markdown",
   "metadata": {},
   "source": [
    "* 調整參數n_estimators"
   ]
  },
  {
   "cell_type": "code",
   "execution_count": 4,
   "metadata": {},
   "outputs": [],
   "source": [
    "cv_params = {'n_estimators': [350, 375, 400, 425, 450]}"
   ]
  },
  {
   "cell_type": "code",
   "execution_count": 6,
   "metadata": {},
   "outputs": [
    {
     "name": "stdout",
     "output_type": "stream",
     "text": [
      "Fitting 5 folds for each of 5 candidates, totalling 25 fits\n"
     ]
    },
    {
     "name": "stderr",
     "output_type": "stream",
     "text": [
      "[Parallel(n_jobs=4)]: Using backend LokyBackend with 4 concurrent workers.\n",
      "[Parallel(n_jobs=4)]: Done  25 out of  25 | elapsed:  3.1min finished\n"
     ]
    },
    {
     "name": "stdout",
     "output_type": "stream",
     "text": [
      "每轮迭代运行结果:{'mean_fit_time': array([24.2996191 , 26.21257339, 27.26243434, 28.65943537, 29.5969378 ]), 'std_fit_time': array([0.10106964, 0.17899847, 0.36201621, 0.0535825 , 1.74310577]), 'mean_score_time': array([0.23970428, 0.24765668, 0.25312529, 0.27187033, 0.2656239 ]), 'std_score_time': array([0.00645329, 0.00668109, 0.00624962, 0.00765059, 0.01976691]), 'param_n_estimators': masked_array(data=[350, 375, 400, 425, 450],\n",
      "             mask=[False, False, False, False, False],\n",
      "       fill_value='?',\n",
      "            dtype=object), 'params': [{'n_estimators': 350}, {'n_estimators': 375}, {'n_estimators': 400}, {'n_estimators': 425}, {'n_estimators': 450}], 'split0_test_score': array([-0.39917725, -0.39949935, -0.39992122, -0.40096776, -0.40095076]), 'split1_test_score': array([-0.400145  , -0.40043352, -0.40137715, -0.40184144, -0.40205529]), 'split2_test_score': array([-0.39804854, -0.39824468, -0.39868293, -0.39879608, -0.39889298]), 'split3_test_score': array([-0.40023834, -0.40094339, -0.40117014, -0.40133028, -0.40169988]), 'split4_test_score': array([-0.39840831, -0.39873159, -0.39928907, -0.39973009, -0.40024258]), 'mean_test_score': array([-0.39920349, -0.39957051, -0.4000881 , -0.40053313, -0.4007683 ]), 'std_test_score': array([0.00088592, 0.00100958, 0.00104626, 0.0011134 , 0.001127  ]), 'rank_test_score': array([1, 2, 3, 4, 5])}\n",
      "参数的最佳取值：{'n_estimators': 350}\n",
      "最佳模型得分:-0.3992034856552002\n",
      "It cost 198.07175636291504 seconds\n"
     ]
    }
   ],
   "source": [
    "start_time = time.time()\n",
    "\n",
    "model = xgb.XGBClassifier(**other_params)\n",
    "optimized_GBM = GridSearchCV(estimator=model, param_grid=cv_params, scoring='neg_log_loss', cv=5, verbose=1, n_jobs=4)\n",
    "optimized_GBM.fit(X_train, y_train)\n",
    "evalute_result = optimized_GBM.cv_results_\n",
    "\n",
    "print('每轮迭代运行结果:{0}'.format(evalute_result))\n",
    "print('参数的最佳取值：{0}'.format(optimized_GBM.best_params_))\n",
    "print('最佳模型得分:{0}'.format(optimized_GBM.best_score_))\n",
    "print(\"It cost %s seconds\" % (time.time() - start_time))"
   ]
  },
  {
   "cell_type": "markdown",
   "metadata": {},
   "source": [
    "* 調整參數max_depth 和 min_child_weight"
   ]
  },
  {
   "cell_type": "code",
   "execution_count": 7,
   "metadata": {},
   "outputs": [],
   "source": [
    "cv_params = { 'max_depth':range(3, 10, 2), 'min_child_weight':range(1, 6, 2)}"
   ]
  },
  {
   "cell_type": "code",
   "execution_count": 8,
   "metadata": {},
   "outputs": [
    {
     "name": "stdout",
     "output_type": "stream",
     "text": [
      "Fitting 5 folds for each of 12 candidates, totalling 60 fits\n"
     ]
    },
    {
     "name": "stderr",
     "output_type": "stream",
     "text": [
      "[Parallel(n_jobs=4)]: Using backend LokyBackend with 4 concurrent workers.\n",
      "[Parallel(n_jobs=4)]: Done  42 tasks      | elapsed:  6.1min\n",
      "[Parallel(n_jobs=4)]: Done  60 out of  60 | elapsed: 10.0min finished\n"
     ]
    },
    {
     "name": "stdout",
     "output_type": "stream",
     "text": [
      "每輪迭代運行結果:{'mean_fit_time': array([24.47467799, 24.46879668, 24.43442364, 33.76899076, 33.51471033,\n",
      "       33.44381542, 43.36520729, 43.03758683, 42.78209562, 53.31860003,\n",
      "       52.77928815, 51.14735937]), 'std_fit_time': array([0.05334636, 0.03563138, 0.0423877 , 0.10967288, 0.06143605,\n",
      "       0.19779099, 0.11996628, 0.16874965, 0.15038367, 0.15418604,\n",
      "       0.17265375, 1.53892052]), 'mean_score_time': array([0.20937543, 0.206249  , 0.20312557, 0.33437595, 0.31562247,\n",
      "       0.31562939, 0.59687653, 0.56562572, 0.55000205, 1.046878  ,\n",
      "       0.95937877, 0.86875281]), 'std_score_time': array([7.65654439e-03, 6.24966623e-03, 3.34330523e-06, 2.33844029e-02,\n",
      "       6.25102710e-03, 6.24744950e-03, 6.25329198e-03, 6.24475815e-03,\n",
      "       6.25016725e-03, 9.88385234e-03, 7.65333229e-03, 5.97874204e-02]), 'param_max_depth': masked_array(data=[3, 3, 3, 5, 5, 5, 7, 7, 7, 9, 9, 9],\n",
      "             mask=[False, False, False, False, False, False, False, False,\n",
      "                   False, False, False, False],\n",
      "       fill_value='?',\n",
      "            dtype=object), 'param_min_child_weight': masked_array(data=[1, 3, 5, 1, 3, 5, 1, 3, 5, 1, 3, 5],\n",
      "             mask=[False, False, False, False, False, False, False, False,\n",
      "                   False, False, False, False],\n",
      "       fill_value='?',\n",
      "            dtype=object), 'params': [{'max_depth': 3, 'min_child_weight': 1}, {'max_depth': 3, 'min_child_weight': 3}, {'max_depth': 3, 'min_child_weight': 5}, {'max_depth': 5, 'min_child_weight': 1}, {'max_depth': 5, 'min_child_weight': 3}, {'max_depth': 5, 'min_child_weight': 5}, {'max_depth': 7, 'min_child_weight': 1}, {'max_depth': 7, 'min_child_weight': 3}, {'max_depth': 7, 'min_child_weight': 5}, {'max_depth': 9, 'min_child_weight': 1}, {'max_depth': 9, 'min_child_weight': 3}, {'max_depth': 9, 'min_child_weight': 5}], 'split0_test_score': array([-0.39812023, -0.39841534, -0.39784212, -0.40185395, -0.40090535,\n",
      "       -0.40047081, -0.41258112, -0.40987472, -0.40988136, -0.42904936,\n",
      "       -0.42338834, -0.41808321]), 'split1_test_score': array([-0.39805298, -0.39797967, -0.39784917, -0.40337275, -0.4027942 ,\n",
      "       -0.4011031 , -0.41243114, -0.40991201, -0.4093643 , -0.42822761,\n",
      "       -0.42216735, -0.42099693]), 'split2_test_score': array([-0.39827468, -0.39780368, -0.39773005, -0.39971222, -0.40050819,\n",
      "       -0.40084929, -0.40863775, -0.40908383, -0.40687692, -0.42512648,\n",
      "       -0.42230229, -0.41980929]), 'split3_test_score': array([-0.40009386, -0.39992248, -0.40031378, -0.40260056, -0.40359045,\n",
      "       -0.40224896, -0.41361634, -0.411151  , -0.41003366, -0.42960799,\n",
      "       -0.42454807, -0.42212972]), 'split4_test_score': array([-0.39795199, -0.39731065, -0.39779105, -0.40104816, -0.40227556,\n",
      "       -0.4009959 , -0.41157079, -0.41069737, -0.40848216, -0.42416025,\n",
      "       -0.41993074, -0.4183978 ]), 'mean_test_score': array([-0.39849875, -0.39828636, -0.39830523, -0.40171753, -0.40201475,\n",
      "       -0.40113361, -0.41176743, -0.41014379, -0.40892768, -0.42723434,\n",
      "       -0.42246736, -0.41988339]), 'std_test_score': array([0.00080443, 0.00089135, 0.00100518, 0.0012655 , 0.00115403,\n",
      "       0.00059733, 0.00169438, 0.00071702, 0.00115995, 0.00218212,\n",
      "       0.00153162, 0.00153226]), 'rank_test_score': array([ 3,  1,  2,  5,  6,  4,  9,  8,  7, 12, 11, 10])}\n",
      "參數的最佳取值：{'max_depth': 3, 'min_child_weight': 3}\n",
      "最佳模型得分:-0.3982863631692971\n",
      "It cost 607.6440322399139 seconds\n"
     ]
    }
   ],
   "source": [
    "start_time = time.time()\n",
    "\n",
    "model = xgb.XGBClassifier(**other_params)\n",
    "optimized_GBM = GridSearchCV(estimator=model, param_grid=cv_params, scoring='neg_log_loss', cv=5, verbose=1, n_jobs=4)\n",
    "optimized_GBM.fit(X_train, y_train)\n",
    "evalute_result = optimized_GBM.cv_results_\n",
    "\n",
    "print('每輪迭代運行結果:{0}'.format(evalute_result))\n",
    "print('參數的最佳取值：{0}'.format(optimized_GBM.best_params_))\n",
    "print('最佳模型得分:{0}'.format(optimized_GBM.best_score_))\n",
    "print(\"It cost %s seconds\" % (time.time() - start_time))"
   ]
  },
  {
   "cell_type": "markdown",
   "metadata": {},
   "source": [
    "* 調整參數gamma"
   ]
  },
  {
   "cell_type": "code",
   "execution_count": 9,
   "metadata": {},
   "outputs": [
    {
     "name": "stdout",
     "output_type": "stream",
     "text": [
      "Fitting 5 folds for each of 6 candidates, totalling 30 fits\n"
     ]
    },
    {
     "name": "stderr",
     "output_type": "stream",
     "text": [
      "[Parallel(n_jobs=4)]: Using backend LokyBackend with 4 concurrent workers.\n",
      "[Parallel(n_jobs=4)]: Done  30 out of  30 | elapsed:  4.5min finished\n"
     ]
    },
    {
     "name": "stdout",
     "output_type": "stream",
     "text": [
      "每輪迭代運行結果:{'mean_fit_time': array([33.74822125, 33.68195333, 33.63820119, 33.64381714, 33.64069352,\n",
      "       31.89381523]), 'std_fit_time': array([0.13095351, 0.04237281, 0.1102491 , 0.08350292, 0.11940987,\n",
      "       2.16559597]), 'mean_score_time': array([0.3156251 , 0.31874905, 0.321877  , 0.31562481, 0.31875124,\n",
      "       0.29062591]), 'std_score_time': array([0.00624495, 0.00765271, 0.00765512, 0.00624974, 0.00765423,\n",
      "       0.02538438]), 'param_gamma': masked_array(data=[0.1, 0.2, 0.3, 0.4, 0.5, 0.6],\n",
      "             mask=[False, False, False, False, False, False],\n",
      "       fill_value='?',\n",
      "            dtype=object), 'params': [{'gamma': 0.1}, {'gamma': 0.2}, {'gamma': 0.3}, {'gamma': 0.4}, {'gamma': 0.5}, {'gamma': 0.6}], 'split0_test_score': array([-0.40198031, -0.40192154, -0.40218596, -0.40197545, -0.40162925,\n",
      "       -0.40151868]), 'split1_test_score': array([-0.40227433, -0.40308232, -0.40224202, -0.40272055, -0.40224366,\n",
      "       -0.40290638]), 'split2_test_score': array([-0.40064901, -0.39998687, -0.40019319, -0.39946271, -0.3999838 ,\n",
      "       -0.40009338]), 'split3_test_score': array([-0.40269709, -0.40226425, -0.40331038, -0.40245666, -0.40238449,\n",
      "       -0.4032911 ]), 'split4_test_score': array([-0.40108662, -0.40184585, -0.40117359, -0.40095896, -0.40142806,\n",
      "       -0.40132486]), 'mean_test_score': array([-0.40173747, -0.40182017, -0.40182103, -0.40151486, -0.40153385,\n",
      "       -0.40182688]), 'std_test_score': array([0.00075847, 0.00101609, 0.00105807, 0.00118938, 0.00085444,\n",
      "       0.00115423]), 'rank_test_score': array([3, 4, 5, 1, 2, 6])}\n",
      "參數的最佳取值：{'gamma': 0.4}\n",
      "最佳模型得分:-0.4015148640999168\n",
      "It cost 280.4021737575531 seconds\n"
     ]
    }
   ],
   "source": [
    "start_time = time.time()\n",
    "\n",
    "cv_params = {'gamma': [0.1, 0.2, 0.3, 0.4, 0.5, 0.6]}\n",
    "model = xgb.XGBClassifier(**other_params)\n",
    "optimized_GBM = GridSearchCV(estimator=model, param_grid=cv_params, scoring='neg_log_loss', cv=5, verbose=1, n_jobs=4)\n",
    "optimized_GBM.fit(X_train, y_train)\n",
    "evalute_result = optimized_GBM.cv_results_\n",
    "\n",
    "print('每輪迭代運行結果:{0}'.format(evalute_result))\n",
    "print('參數的最佳取值：{0}'.format(optimized_GBM.best_params_))\n",
    "print('最佳模型得分:{0}'.format(optimized_GBM.best_score_))\n",
    "print(\"It cost %s seconds\" % (time.time() - start_time))"
   ]
  },
  {
   "cell_type": "markdown",
   "metadata": {},
   "source": [
    "* 調整參數subsample、colsample_bytree"
   ]
  },
  {
   "cell_type": "code",
   "execution_count": 10,
   "metadata": {},
   "outputs": [
    {
     "name": "stdout",
     "output_type": "stream",
     "text": [
      "Fitting 5 folds for each of 16 candidates, totalling 80 fits\n"
     ]
    },
    {
     "name": "stderr",
     "output_type": "stream",
     "text": [
      "[Parallel(n_jobs=4)]: Using backend LokyBackend with 4 concurrent workers.\n",
      "[Parallel(n_jobs=4)]: Done  42 tasks      | elapsed:  5.7min\n",
      "[Parallel(n_jobs=4)]: Done  80 out of  80 | elapsed: 11.0min finished\n"
     ]
    },
    {
     "name": "stdout",
     "output_type": "stream",
     "text": [
      "每輪迭代運行結果:{'mean_fit_time': array([29.96827178, 29.84281106, 29.1276969 , 28.46222758, 32.25647826,\n",
      "       31.98180699, 31.37631955, 30.63485217, 34.65601521, 34.4014164 ,\n",
      "       33.69295964, 32.84381423, 37.08008032, 36.65319963, 36.0281929 ,\n",
      "       35.08132033]), 'std_fit_time': array([0.08409114, 0.0816225 , 0.0600945 , 0.08270332, 0.06574867,\n",
      "       0.04379435, 0.08385894, 0.09099552, 0.12381828, 0.04966998,\n",
      "       0.15699574, 0.07460793, 0.07892211, 0.08637871, 0.12079131,\n",
      "       0.11916436]), 'mean_score_time': array([0.33437543, 0.32812467, 0.32187686, 0.30625424, 0.32812672,\n",
      "       0.32499948, 0.31249709, 0.31250525, 0.33124967, 0.32500334,\n",
      "       0.31562381, 0.31250072, 0.32812009, 0.32188077, 0.31875472,\n",
      "       0.28749862]), 'std_score_time': array([7.65391572e-03, 2.48047005e-06, 7.65130757e-03, 7.65471419e-03,\n",
      "       3.31530443e-06, 6.24986034e-03, 6.78283049e-06, 3.34126435e-06,\n",
      "       6.25135958e-03, 6.25131195e-03, 6.24630469e-03, 9.88430440e-03,\n",
      "       9.88498332e-03, 7.65099704e-03, 7.65323542e-03, 2.11952258e-02]), 'param_colsample_bytree': masked_array(data=[0.6, 0.6, 0.6, 0.6, 0.7, 0.7, 0.7, 0.7, 0.8, 0.8, 0.8,\n",
      "                   0.8, 0.9, 0.9, 0.9, 0.9],\n",
      "             mask=[False, False, False, False, False, False, False, False,\n",
      "                   False, False, False, False, False, False, False, False],\n",
      "       fill_value='?',\n",
      "            dtype=object), 'param_subsample': masked_array(data=[0.6, 0.7, 0.8, 0.9, 0.6, 0.7, 0.8, 0.9, 0.6, 0.7, 0.8,\n",
      "                   0.9, 0.6, 0.7, 0.8, 0.9],\n",
      "             mask=[False, False, False, False, False, False, False, False,\n",
      "                   False, False, False, False, False, False, False, False],\n",
      "       fill_value='?',\n",
      "            dtype=object), 'params': [{'colsample_bytree': 0.6, 'subsample': 0.6}, {'colsample_bytree': 0.6, 'subsample': 0.7}, {'colsample_bytree': 0.6, 'subsample': 0.8}, {'colsample_bytree': 0.6, 'subsample': 0.9}, {'colsample_bytree': 0.7, 'subsample': 0.6}, {'colsample_bytree': 0.7, 'subsample': 0.7}, {'colsample_bytree': 0.7, 'subsample': 0.8}, {'colsample_bytree': 0.7, 'subsample': 0.9}, {'colsample_bytree': 0.8, 'subsample': 0.6}, {'colsample_bytree': 0.8, 'subsample': 0.7}, {'colsample_bytree': 0.8, 'subsample': 0.8}, {'colsample_bytree': 0.8, 'subsample': 0.9}, {'colsample_bytree': 0.9, 'subsample': 0.6}, {'colsample_bytree': 0.9, 'subsample': 0.7}, {'colsample_bytree': 0.9, 'subsample': 0.8}, {'colsample_bytree': 0.9, 'subsample': 0.9}], 'split0_test_score': array([-0.40138349, -0.40145738, -0.40010353, -0.39941701, -0.4016493 ,\n",
      "       -0.40162477, -0.40080547, -0.40037321, -0.40249691, -0.40146454,\n",
      "       -0.40185395, -0.40131023, -0.40420222, -0.40291017, -0.40177758,\n",
      "       -0.40150747]), 'split1_test_score': array([-0.40226874, -0.40095568, -0.40098185, -0.40014877, -0.40310325,\n",
      "       -0.40262246, -0.40226594, -0.39972889, -0.4031726 , -0.40265828,\n",
      "       -0.40337275, -0.40133884, -0.40439611, -0.40380033, -0.40333423,\n",
      "       -0.40242058]), 'split2_test_score': array([-0.40255221, -0.40097866, -0.3997314 , -0.39871441, -0.40345087,\n",
      "       -0.40187209, -0.40014884, -0.39935954, -0.40353667, -0.40204166,\n",
      "       -0.39971222, -0.39946149, -0.40263648, -0.40243846, -0.40057128,\n",
      "       -0.39983414]), 'split3_test_score': array([-0.40303642, -0.40380827, -0.40223648, -0.40084444, -0.40412763,\n",
      "       -0.4029613 , -0.40305296, -0.40023176, -0.40303358, -0.40328817,\n",
      "       -0.40260056, -0.40054083, -0.40371461, -0.40445353, -0.4032    ,\n",
      "       -0.40132895]), 'split4_test_score': array([-0.40141747, -0.40049893, -0.40060895, -0.3985527 , -0.40122982,\n",
      "       -0.4013724 , -0.40062086, -0.4005143 , -0.40208611, -0.40207229,\n",
      "       -0.40104816, -0.40069286, -0.40365701, -0.40290637, -0.40131808,\n",
      "       -0.40147447]), 'mean_test_score': array([-0.40213167, -0.40153978, -0.40073244, -0.39953547, -0.40271217,\n",
      "       -0.4020906 , -0.40137881, -0.40004154, -0.40286517, -0.40230499,\n",
      "       -0.40171753, -0.40066885, -0.40372129, -0.40330177, -0.40204024,\n",
      "       -0.40131312]), 'std_test_score': array([0.00064561, 0.00117407, 0.00086455, 0.00086528, 0.00109811,\n",
      "       0.00060358, 0.00109598, 0.00043187, 0.0005131 , 0.00061989,\n",
      "       0.0012655 , 0.00068337, 0.00061118, 0.00072527, 0.00107404,\n",
      "       0.00083402]), 'rank_test_score': array([11,  7,  4,  1, 13, 10,  6,  2, 14, 12,  8,  3, 16, 15,  9,  5])}\n",
      "參數的最佳取值：{'colsample_bytree': 0.6, 'subsample': 0.9}\n",
      "最佳模型得分:-0.3995354666533717\n",
      "It cost 674.4077079296112 seconds\n"
     ]
    }
   ],
   "source": [
    "start_time = time.time()\n",
    "\n",
    "cv_params = {\n",
    " 'subsample':[i/10.0 for i in range(6,10)],\n",
    " 'colsample_bytree':[i/10.0 for i in range(6,10)]\n",
    "}\n",
    "model = xgb.XGBClassifier(**other_params)\n",
    "optimized_GBM = GridSearchCV(estimator=model, param_grid=cv_params, scoring='neg_log_loss', cv=5, verbose=1, n_jobs=4)\n",
    "optimized_GBM.fit(X_train, y_train)\n",
    "evalute_result = optimized_GBM.cv_results_\n",
    "\n",
    "print('每輪迭代運行結果:{0}'.format(evalute_result))\n",
    "print('參數的最佳取值：{0}'.format(optimized_GBM.best_params_))\n",
    "print('最佳模型得分:{0}'.format(optimized_GBM.best_score_))\n",
    "print(\"It cost %s seconds\" % (time.time() - start_time))"
   ]
  },
  {
   "cell_type": "markdown",
   "metadata": {},
   "source": [
    "* 使用正規化參數來調整過度擬合"
   ]
  },
  {
   "cell_type": "code",
   "execution_count": 11,
   "metadata": {},
   "outputs": [
    {
     "name": "stdout",
     "output_type": "stream",
     "text": [
      "Fitting 5 folds for each of 5 candidates, totalling 25 fits\n"
     ]
    },
    {
     "name": "stderr",
     "output_type": "stream",
     "text": [
      "[Parallel(n_jobs=4)]: Using backend LokyBackend with 4 concurrent workers.\n",
      "[Parallel(n_jobs=4)]: Done  25 out of  25 | elapsed:  3.4min finished\n"
     ]
    },
    {
     "name": "stdout",
     "output_type": "stream",
     "text": [
      "每輪迭代運行結果:{'mean_fit_time': array([33.61113367, 33.64694314, 33.77832813, 33.94698815, 18.96566277]), 'std_fit_time': array([0.0724119 , 0.10392553, 0.08050511, 0.1155703 , 1.13878574]), 'mean_score_time': array([0.31250095, 0.31562505, 0.31875224, 0.32499747, 0.0968791 ]), 'std_score_time': array([5.06211549e-06, 6.24962068e-03, 7.65360714e-03, 6.25207745e-03,\n",
      "       1.16936228e-02]), 'param_reg_alpha': masked_array(data=[1e-05, 0.01, 0.1, 1, 100],\n",
      "             mask=[False, False, False, False, False],\n",
      "       fill_value='?',\n",
      "            dtype=object), 'params': [{'reg_alpha': 1e-05}, {'reg_alpha': 0.01}, {'reg_alpha': 0.1}, {'reg_alpha': 1}, {'reg_alpha': 100}], 'split0_test_score': array([-0.40185392, -0.40230752, -0.4012092 , -0.40280408, -0.40776286]), 'split1_test_score': array([-0.40337272, -0.40266656, -0.40277128, -0.40101309, -0.40453235]), 'split2_test_score': array([-0.3997122 , -0.40113881, -0.40009546, -0.4009064 , -0.40611372]), 'split3_test_score': array([-0.40260053, -0.40244001, -0.40219354, -0.40278843, -0.40826904]), 'split4_test_score': array([-0.40104813, -0.40138882, -0.40135942, -0.40116646, -0.40521523]), 'mean_test_score': array([-0.4017175 , -0.40198834, -0.40152578, -0.40173569, -0.40637864]), 'std_test_score': array([0.00126549, 0.00060778, 0.00091333, 0.0008699 , 0.00143681]), 'rank_test_score': array([2, 4, 1, 3, 5])}\n",
      "參數的最佳取值：{'reg_alpha': 0.1}\n",
      "最佳模型得分:-0.4015257795493712\n",
      "It cost 219.19907212257385 seconds\n"
     ]
    }
   ],
   "source": [
    "start_time = time.time()\n",
    "\n",
    "cv_params = {'reg_alpha':[1e-5, 1e-2, 0.1, 1, 100]} \n",
    "model = xgb.XGBClassifier(**other_params)\n",
    "optimized_GBM = GridSearchCV(estimator=model, param_grid=cv_params, scoring='neg_log_loss', cv=5, verbose=1, n_jobs=4)\n",
    "optimized_GBM.fit(X_train, y_train)\n",
    "evalute_result = optimized_GBM.cv_results_\n",
    "\n",
    "print('每輪迭代運行結果:{0}'.format(evalute_result))\n",
    "print('參數的最佳取值：{0}'.format(optimized_GBM.best_params_))\n",
    "print('最佳模型得分:{0}'.format(optimized_GBM.best_score_))\n",
    "print(\"It cost %s seconds\" % (time.time() - start_time))"
   ]
  },
  {
   "cell_type": "markdown",
   "metadata": {},
   "source": [
    "* 調整參數learning_rate"
   ]
  },
  {
   "cell_type": "code",
   "execution_count": 12,
   "metadata": {},
   "outputs": [
    {
     "name": "stdout",
     "output_type": "stream",
     "text": [
      "Fitting 5 folds for each of 5 candidates, totalling 25 fits\n"
     ]
    },
    {
     "name": "stderr",
     "output_type": "stream",
     "text": [
      "[Parallel(n_jobs=4)]: Using backend LokyBackend with 4 concurrent workers.\n",
      "[Parallel(n_jobs=4)]: Done  25 out of  25 | elapsed:  3.9min finished\n"
     ]
    },
    {
     "name": "stdout",
     "output_type": "stream",
     "text": [
      "每輪迭代運行結果:{'mean_fit_time': array([34.23276019, 33.70631857, 33.86568956, 33.762567  , 32.63444419]), 'std_fit_time': array([0.11387705, 0.08232044, 0.17611124, 0.1263211 , 1.94486629]), 'mean_score_time': array([0.31786299, 0.31562629, 0.32187767, 0.31562614, 0.29687166]), 'std_score_time': array([0.0060393 , 0.0062496 , 0.01249836, 0.00625003, 0.02209604]), 'param_learning_rate': masked_array(data=[0.01, 0.05, 0.07, 0.1, 0.2],\n",
      "             mask=[False, False, False, False, False],\n",
      "       fill_value='?',\n",
      "            dtype=object), 'params': [{'learning_rate': 0.01}, {'learning_rate': 0.05}, {'learning_rate': 0.07}, {'learning_rate': 0.1}, {'learning_rate': 0.2}], 'split0_test_score': array([-0.40025923, -0.39812408, -0.39903399, -0.40185395, -0.41452243]), 'split1_test_score': array([-0.39938134, -0.39825956, -0.399448  , -0.40337275, -0.41495921]), 'split2_test_score': array([-0.39918242, -0.39731104, -0.39881506, -0.39971222, -0.41042953]), 'split3_test_score': array([-0.40059467, -0.39824572, -0.40063942, -0.40260056, -0.415325  ]), 'split4_test_score': array([-0.39866671, -0.39747281, -0.39850251, -0.40104816, -0.41484537]), 'mean_test_score': array([-0.39961687, -0.39788264, -0.39928779, -0.40171753, -0.41401631]), 'std_test_score': array([0.00070933, 0.00040666, 0.00074258, 0.0012655 , 0.00181164]), 'rank_test_score': array([3, 1, 2, 4, 5])}\n",
      "參數的最佳取值：{'learning_rate': 0.05}\n",
      "最佳模型得分:-0.39788264202355406\n",
      "It cost 246.486891746521 seconds\n"
     ]
    }
   ],
   "source": [
    "start_time = time.time()\n",
    "\n",
    "cv_params = {'learning_rate': [0.01, 0.05, 0.07, 0.1, 0.2]}\n",
    "model = xgb.XGBClassifier(**other_params)\n",
    "optimized_GBM = GridSearchCV(estimator=model, param_grid=cv_params, scoring='neg_log_loss', cv=5, verbose=1, n_jobs=4)\n",
    "optimized_GBM.fit(X_train, y_train)\n",
    "evalute_result = optimized_GBM.cv_results_\n",
    "\n",
    "print('每輪迭代運行結果:{0}'.format(evalute_result))\n",
    "print('參數的最佳取值：{0}'.format(optimized_GBM.best_params_))\n",
    "print('最佳模型得分:{0}'.format(optimized_GBM.best_score_))\n",
    "print(\"It cost %s seconds\" % (time.time() - start_time))"
   ]
  },
  {
   "cell_type": "code",
   "execution_count": 13,
   "metadata": {},
   "outputs": [
    {
     "name": "stdout",
     "output_type": "stream",
     "text": [
      "Fitting 5 folds for each of 5 candidates, totalling 25 fits\n"
     ]
    },
    {
     "name": "stderr",
     "output_type": "stream",
     "text": [
      "[Parallel(n_jobs=4)]: Using backend LokyBackend with 4 concurrent workers.\n",
      "[Parallel(n_jobs=4)]: Done  25 out of  25 | elapsed:  3.9min finished\n"
     ]
    },
    {
     "name": "stdout",
     "output_type": "stream",
     "text": [
      "每輪迭代運行結果:{'mean_fit_time': array([34.1829217 , 33.8227509 , 33.84035006, 33.81682453, 32.78437419]), 'std_fit_time': array([0.10363759, 0.0998148 , 0.12419779, 0.10113345, 1.9295186 ]), 'mean_score_time': array([0.31818824, 0.32315516, 0.31882048, 0.32021842, 0.30471048]), 'std_score_time': array([0.00702226, 0.00579307, 0.00074559, 0.00240333, 0.02107869]), 'param_learning_rate': masked_array(data=[0.01, 0.05, 0.07, 0.1, 0.2],\n",
      "             mask=[False, False, False, False, False],\n",
      "       fill_value='?',\n",
      "            dtype=object), 'params': [{'learning_rate': 0.01}, {'learning_rate': 0.05}, {'learning_rate': 0.07}, {'learning_rate': 0.1}, {'learning_rate': 0.2}], 'split0_test_score': array([-0.40025923, -0.39812408, -0.39903399, -0.40185395, -0.41452243]), 'split1_test_score': array([-0.39938134, -0.39825956, -0.399448  , -0.40337275, -0.41495921]), 'split2_test_score': array([-0.39918242, -0.39731104, -0.39881506, -0.39971222, -0.41042953]), 'split3_test_score': array([-0.40059467, -0.39824572, -0.40063942, -0.40260056, -0.415325  ]), 'split4_test_score': array([-0.39866671, -0.39747281, -0.39850251, -0.40104816, -0.41484537]), 'mean_test_score': array([-0.39961687, -0.39788264, -0.39928779, -0.40171753, -0.41401631]), 'std_test_score': array([0.00070933, 0.00040666, 0.00074258, 0.0012655 , 0.00181164]), 'rank_test_score': array([3, 1, 2, 4, 5])}\n",
      "參數的最佳取值：{'learning_rate': 0.05}\n",
      "最佳模型得分:-0.39788264202355406\n",
      "It cost 247.04152035713196 seconds\n"
     ]
    }
   ],
   "source": [
    "start_time = time.time()\n",
    "\n",
    "cv_params = {'learning_rate': [0.01, 0.05, 0.07, 0.1, 0.2]}\n",
    "model = xgb.XGBClassifier(**other_params)\n",
    "optimized_GBM = GridSearchCV(estimator=model, param_grid=cv_params, scoring='neg_log_loss', cv=5, verbose=1, n_jobs=4)\n",
    "optimized_GBM.fit(X_train, y_train)\n",
    "evalute_result = optimized_GBM.cv_results_\n",
    "\n",
    "print('每輪迭代運行結果:{0}'.format(evalute_result))\n",
    "print('參數的最佳取值：{0}'.format(optimized_GBM.best_params_))\n",
    "print('最佳模型得分:{0}'.format(optimized_GBM.best_score_))\n",
    "print(\"It cost %s seconds\" % (time.time() - start_time))"
   ]
  },
  {
   "cell_type": "markdown",
   "metadata": {},
   "source": [
    "# 5. 最終模型及重要特徵"
   ]
  },
  {
   "cell_type": "code",
   "execution_count": 14,
   "metadata": {},
   "outputs": [],
   "source": [
    "other_params = {\n",
    "    'learning_rate': 0.05,\n",
    "    'n_estimators': 400,\n",
    "    'max_depth': 3,\n",
    "    'min_child_weight': 3,\n",
    "    'gamma':0.4,\n",
    "    'seed': 0,\n",
    "    'subsample': 0.9,\n",
    "    'colsample_bytree': 0.6,\n",
    "    'objective':'binary:logistic',\n",
    "    'reg_alpha': 0.1,\n",
    "    'reg_lambda': 1}"
   ]
  },
  {
   "cell_type": "code",
   "execution_count": 15,
   "metadata": {},
   "outputs": [
    {
     "name": "stdout",
     "output_type": "stream",
     "text": [
      "             feature  importance\n",
      "18             C_pix    0.261311\n",
      "19   C_device_type_1    0.093695\n",
      "9                C19    0.086824\n",
      "5       app_category    0.074212\n",
      "7                C14    0.066439\n",
      "2         banner_pos    0.058128\n",
      "4         app_domain    0.052525\n",
      "0                 id    0.051409\n",
      "3      site_category    0.050739\n",
      "8                C18    0.048015\n",
      "11               C21    0.046418\n",
      "6   device_conn_type    0.042067\n",
      "10               C20    0.038750\n",
      "1               hour    0.029469\n",
      "12               day    0.000000\n",
      "13         is_device    0.000000\n",
      "14          C_app_id    0.000000\n",
      "15         C_site_id    0.000000\n",
      "16     C_site_domain    0.000000\n",
      "17    C_device_model    0.000000\n",
      "{'C14': 2.383713960450111, 'C19': 3.115116322668929, 'id': 1.844459091076825, 'C_pix': 9.375431505290164, 'hour': 1.0572855346157297, 'site_category': 1.8204430482920142, 'C21': 1.6654120794789569, 'app_category': 2.662608897226751, 'C20': 1.3902744685170714, 'C_device_type_1': 3.3616418134850474, 'device_conn_type': 1.5092924369885385, 'app_domain': 1.8845031441151174, 'banner_pos': 2.085554867918603, 'C18': 1.722708820582095}\n",
      "It cost 13.575068473815918 seconds\n"
     ]
    },
    {
     "data": {
      "image/png": "[encoded data removed]",
      "text/plain": [
       "<Figure size 432x288 with 1 Axes>"
      ]
     },
     "metadata": {},
     "output_type": "display_data"
    }
   ],
   "source": [
    "start_time = time.time()\n",
    "\n",
    "model = xgb.XGBRegressor(n_estimators=350, max_depth=10, objective='binary:logistic', min_child_weight=50,\n",
    "                         subsample=0.8, gamma=0, learning_rate=0.2, colsample_bytree=0.5, seed=27)\n",
    "\n",
    "model.fit(X_train, y_train)\n",
    "# y_test = model.predict(X_test)\n",
    "xgb.plot_importance(model, importance_type=\"gain\")\n",
    "\n",
    "features = X_train.columns\n",
    "feature_importance_values = model.feature_importances_\n",
    "\n",
    "feature_importances = pd.DataFrame({'feature': list(features), 'importance': feature_importance_values})\n",
    "\n",
    "feature_importances.sort_values('importance', inplace=True, ascending=False)\n",
    "print(feature_importances)\n",
    "\n",
    "# print(model.get_booster().get_fscore())\n",
    "\n",
    "print(model.get_booster().get_score(importance_type=\"gain\"))\n",
    "\n",
    "\n",
    "feature_importances.to_csv('feature.csv')\n",
    "print(\"It cost %s seconds\" % (time.time() - start_time))"
   ]
  },
  {
   "cell_type": "code",
   "execution_count": 114,
   "metadata": {},
   "outputs": [],
   "source": [
    "import pandas as pd\n",
    "import numpy as np\n",
    "from sklearn.ensemble import GradientBoostingClassifier  #分類器\n",
    "from sklearn.metrics import accuracy_score #評估指標\n",
    "from sklearn.metrics import roc_auc_score\n",
    "from sklearn.model_selection import cross_val_score\n",
    "from sklearn.model_selection import GridSearchCV     #網格搜尋\n",
    "import matplotlib.pylab as plt\n",
    "from sklearn.metrics import f1_score\n",
    "\n",
    "features = pd.read_csv('feature.csv')\n",
    "x_columns = features.head(20)['feature'].tolist() #特徵重要性排序，選擇前10名特徵\n",
    "\n",
    "train = pd.read_csv('tr_FE.csv')\n",
    "\n",
    "y_train = train.click\n",
    "X_train = train[x_columns]\n",
    "\n",
    "X = pd.read_csv('ts_FE.csv', dtype = {'id':'U'})\n",
    "id_ = X.id\n",
    "X_ = X[x_columns]\n",
    "\n",
    "\n",
    "gbm = GradientBoostingClassifier(max_depth=15, learning_rate=0.02, n_estimators=1200, min_samples_leaf=60, \n",
    "               min_samples_split =1200, max_features=4, subsample=1.0, random_state=10)\n",
    "\n",
    "gbm.fit(X_train, y_train)\n",
    "y_pred = gbm.predict(X_)\n",
    "y_predprob = gbm.predict_proba(X_)[:,1]\n",
    "\n",
    "y_out = pd.DataFrame({'id': list(id_), 'click': y_predprob})\n",
    "y_out.to_csv('y_out1.csv', index = False, sep = ',')  #保存預測值"
   ]
  },
  {
   "cell_type": "markdown",
   "metadata": {},
   "source": [
    "# 6.評估模型"
   ]
  },
  {
   "cell_type": "code",
   "execution_count": 115,
   "metadata": {},
   "outputs": [],
   "source": [
    "y_true = np.array(X.click, dtype = int)\n",
    "try:\n",
    "    roc_auc_score(y_true, y_pred)\n",
    "except ValueError:\n",
    "    pass"
   ]
  },
  {
   "cell_type": "code",
   "execution_count": 116,
   "metadata": {},
   "outputs": [
    {
     "name": "stdout",
     "output_type": "stream",
     "text": [
      "f1score:  0.4994796296721525\n"
     ]
    }
   ],
   "source": [
    "#F1score評估約0.5\n",
    "from sklearn.metrics import f1_score\n",
    "print(\"f1score: \", f1_score(y_true, y_pred, average='macro'))"
   ]
  }
 ],
 "metadata": {
  "kernelspec": {
   "display_name": "Python 3",
   "language": "python",
   "name": "python3"
  },
  "language_info": {
   "codemirror_mode": {
    "name": "ipython",
    "version": 3
   },
   "file_extension": ".py",
   "mimetype": "text/x-python",
   "name": "python",
   "nbconvert_exporter": "python",
   "pygments_lexer": "ipython3",
   "version": "3.7.3"
  }
 },
 "nbformat": 4,
 "nbformat_minor": 4
}
